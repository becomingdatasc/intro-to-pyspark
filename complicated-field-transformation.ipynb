{
 "cells": [
  {
   "cell_type": "code",
   "execution_count": 1,
   "metadata": {},
   "outputs": [],
   "source": [
    "import pandas as pd\n",
    "\n",
    "from pyspark.sql import SparkSession\n",
    "\n",
    "spark = SparkSession \\\n",
    "    .builder \\\n",
    "    .appName(\"Pyspark course\") \\\n",
    "    .getOrCreate()"
   ]
  },
  {
   "cell_type": "code",
   "execution_count": 2,
   "metadata": {},
   "outputs": [],
   "source": [
    "films_sdf = spark\\\n",
    "    .read\\\n",
    "    .csv(\"data/tmdb-box-office-prediction/train.csv\", header=True)"
   ]
  },
  {
   "cell_type": "code",
   "execution_count": 3,
   "metadata": {},
   "outputs": [
    {
     "name": "stdout",
     "output_type": "stream",
     "text": [
      "+--------------------+\n",
      "|                cast|\n",
      "+--------------------+\n",
      "|Hot Tub Time Mach...|\n",
      "|\"[{'cast_id': 1, ...|\n",
      "|\"[{'cast_id': 5, ...|\n",
      "|[{'cast_id': 1, '...|\n",
      "|[{'cast_id': 3, '...|\n",
      "|[{'cast_id': 6, '...|\n",
      "|\"[{'cast_id': 23,...|\n",
      "|[{'cast_id': 2, '...|\n",
      "|\"[{'cast_id': 1, ...|\n",
      "|Back together for...|\n",
      "|         {'id': 2416|\n",
      "|[{'cast_id': 2, '...|\n",
      "|\"[{'cast_id': 6, ...|\n",
      "|\"[{'cast_id': 4, ...|\n",
      "|[{'cast_id': 5, '...|\n",
      "|\"[{'cast_id': 100...|\n",
      "|\"[{'cast_id': 1, ...|\n",
      "|[{'cast_id': 7, '...|\n",
      "|[{'cast_id': 2, '...|\n",
      "|[{'cast_id': 1, '...|\n",
      "+--------------------+\n",
      "only showing top 20 rows\n",
      "\n"
     ]
    }
   ],
   "source": [
    "films_sdf.select(\"cast\").show()"
   ]
  },
  {
   "cell_type": "code",
   "execution_count": 17,
   "metadata": {},
   "outputs": [],
   "source": [
    "import pyspark.sql.functions as F\n",
    "\n",
    "films_sdf_with_cast = films_sdf.filter(F.col(\"cast\").rlike(\"\\{\"))"
   ]
  },
  {
   "cell_type": "code",
   "execution_count": 19,
   "metadata": {},
   "outputs": [
    {
     "data": {
      "text/plain": [
       "Row(cast='\"[{\\'cast_id\\': 1, \\'character\\': \\'Mia Thermopolis\\', \\'credit_id\\': \\'52fe43fe9251416c7502561f\\', \\'gender\\': 1, \\'id\\': 1813, \\'name\\': \\'Anne Hathaway\\', \\'order\\': 0, \\'profile_path\\': \\'/jUMOKwSUBnTcMeN1HfhutiY49Ad.jpg\\'}, {\\'cast_id\\': 2, \\'character\\': \\'Queen Clarisse Renaldi\\', \\'credit_id\\': \\'52fe43fe9251416c75025623\\', \\'gender\\': 1, \\'id\\': 5823, \\'name\\': \\'Julie Andrews\\', \\'order\\': 1, \\'profile_path\\': \\'/6t61jkmfSA6nbYRCKR9s97CgUN6.jpg\\'}, {\\'cast_id\\': 3, \\'character\\': \\'Joe\\', \\'credit_id\\': \\'52fe43fe9251416c75025627\\', \\'gender\\': 2, \\'id\\': 1210, \\'name\\': \\'H√©ctor Elizondo\\', \\'order\\': 2, \\'profile_path\\': \\'/48UNfVFZVr0jyMIlLPhzm8IIM7f.jpg\\'}, {\\'cast_id\\': 4, \\'character\\': \\'Viscount Mabrey\\', \\'credit_id\\': \\'52fe43fe9251416c7502562b\\', \\'gender\\': 2, \\'id\\': 655, \\'name\\': \\'John Rhys-Davies\\', \\'order\\': 3, \\'profile_path\\': \\'/zZ67PuoFfik9QlZyfaEsFBC1yVJ.jpg\\'}, {\\'cast_id\\': 5, \\'character\\': \\'Lilly Moscovitz\\', \\'credit_id\\': \\'52fe43fe9251416c7502562f\\', \\'gender\\': 1, \\'id\\': 33656, \\'name\\': \\'Heather Matarazzo\\', \\'order\\': 4, \\'profile_path\\': \\'/xcwR8aPuSkUCDPIyKU049M1CXph.jpg\\'}, {\\'cast_id\\': 6, \\'character\\': \\'Nicholas Devereaux\\', \\'credit_id\\': \\'52fe43fe9251416c75025633\\', \\'gender\\': 2, \\'id\\': 62064, \\'name\\': \\'Chris Pine\\', \\'order\\': 5, \\'profile_path\\': \\'/vSe6sIsdtcoqBhuWRXynahFg8Vf.jpg\\'}, {\\'cast_id\\': 7, \\'character\\': \\'Andrew Jacoby\\', \\'credit_id\\': \\'52fe43fe9251416c75025637\\', \\'gender\\': 2, \\'id\\': 68287, \\'name\\': \\'Callum Blue\\', \\'order\\': 6, \\'profile_path\\': \\'/3qf8rLoWmXOcCA8Rs9RPIEQ9yLB.jpg\\'}, {\\'cast_id\\': 17, \\'character\\': \\'Paolo\\', \\'credit_id\\': \\'52fe43fe9251416c75025671\\', \\'gender\\': 2, \\'id\\': 1211, \\'name\\': \\'Larry Miller\\', \\'order\\': 7, \\'profile_path\\': \\'/xA8zCxNrwtamLaLWNBkLyX5tGtU.jpg\\'}, {\\'cast_id\\': 18, \\'character\\': \\'Asana\\', \\'credit_id\\': \\'52fe43fe9251416c75025675\\', \\'gender\\': 1, \\'id\\': 66896, \\'name\\': \\'Raven-Symon√©\\', \\'order\\': 8, \\'profile_path\\': \\'/nzklI9bgqsUKVWlnQcT5lSrCyaM.jpg\\'}, {\\'cast_id\\': 19, \\'character\\': \\'Charlotte Kutaway\\', \\'credit_id\\': \\'52fe43fe9251416c75025679\\', \\'gender\\': 1, \\'id\\': 303542, \\'name\\': \\'Kathleen Marshall\\', \\'order\\': 9, \\'profile_path\\': \\'/4ANxOHPa81aqLyP8BQxkwmZrWgK.jpg\\'}, {\\'cast_id\\': 21, \\'character\\': \"\"Mia\\'s Mom Helen\"\"')"
      ]
     },
     "execution_count": 19,
     "metadata": {},
     "output_type": "execute_result"
    }
   ],
   "source": [
    "films_sdf_with_cast.select(\"cast\").head()"
   ]
  },
  {
   "cell_type": "code",
   "execution_count": null,
   "metadata": {},
   "outputs": [],
   "source": [
    "'cast_id'\n",
    "'character'\n",
    "'credit_id'\n",
    "'gender'\n",
    "'id'\n",
    "'name'\n",
    "'order'\n",
    "'profile_path'"
   ]
  },
  {
   "cell_type": "code",
   "execution_count": 46,
   "metadata": {},
   "outputs": [],
   "source": [
    "from pyspark.sql.types import StructType, StructField, IntegerType, StringType, ArrayType\n",
    "\n",
    "cast_schema = ArrayType(\n",
    "    StructType([\n",
    "        StructField(\"cast_id\", IntegerType()),\n",
    "        StructField(\"name\", StringType())\n",
    "    ])\n",
    ")\n",
    "\n",
    "films_sdf_with_cast_struct = films_sdf_with_cast\\\n",
    "    .withColumn(\"cast_struct\", F.from_json(F.col(\"cast\"), cast_schema))"
   ]
  },
  {
   "cell_type": "code",
   "execution_count": 83,
   "metadata": {},
   "outputs": [],
   "source": [
    "films_sdf_with_cast_struct_bad = films_sdf_with_cast_struct\\\n",
    "    .filter(F.col(\"cast_struct\").isNull())\n",
    "films_sdf_with_cast_struct_good = films_sdf_with_cast_struct\\\n",
    "    .filter(F.col(\"cast_struct\").isNotNull())"
   ]
  },
  {
   "cell_type": "code",
   "execution_count": 86,
   "metadata": {},
   "outputs": [],
   "source": [
    "films_sdf_with_cast_struct_bad2 = \\\n",
    "    films_sdf_with_cast_struct_bad\\\n",
    "    .withColumn(\n",
    "        \"cast_no_comillas\", \n",
    "        F.col(\"cast\").substr(F.lit(2), F.length(F.col(\"cast\"))-2))\\\n",
    "    .withColumn(\"cast_struct\", F.from_json(F.col(\"cast_no_comillas\"), cast_schema))\\\n",
    "    .drop(\"cast_no_comillas\")"
   ]
  },
  {
   "cell_type": "code",
   "execution_count": 87,
   "metadata": {},
   "outputs": [],
   "source": [
    "films_sdf_with_cast_struct_good = \\\n",
    "    films_sdf_with_cast_struct_bad2.union(films_sdf_with_cast_struct_good)"
   ]
  },
  {
   "cell_type": "code",
   "execution_count": 88,
   "metadata": {},
   "outputs": [
    {
     "name": "stdout",
     "output_type": "stream",
     "text": [
      "+--------------------+--------------------+\n",
      "|                cast|         cast_struct|\n",
      "+--------------------+--------------------+\n",
      "|\"[{'cast_id': 1, ...|                null|\n",
      "|\"[{'cast_id': 5, ...|                null|\n",
      "|[{'cast_id': 1, '...|  [[1, Vidya Balan]]|\n",
      "|[{'cast_id': 6, '...| [[6, Scott Grimes]]|\n",
      "|\"[{'cast_id': 23,...|                null|\n",
      "|[{'cast_id': 2, '...| [[2, Samir Khader]]|\n",
      "|\"[{'cast_id': 1, ...|                null|\n",
      "|         {'id': 2416|                null|\n",
      "|[{'cast_id': 2, '...|[[2, Robert Carra...|\n",
      "|\"[{'cast_id': 6, ...|                null|\n",
      "|\"[{'cast_id': 4, ...|                null|\n",
      "|\"[{'cast_id': 100...|                null|\n",
      "|\"[{'cast_id': 1, ...|                null|\n",
      "|[{'cast_id': 7, '...|[[7, Ralph Fiennes]]|\n",
      "|[{'cast_id': 2, '...|[[2, Felicity Jon...|\n",
      "|[{'cast_id': 26, ...| [[26, Gary Oldman]]|\n",
      "|\"[{'cast_id': 1, ...|                null|\n",
      "|\"[{'cast_id': 1, ...|                null|\n",
      "|[{'cast_id': 1037...|[[1037, Max Perli...|\n",
      "|[{'cast_id': 9, '...|[[9, Nathan Meist...|\n",
      "+--------------------+--------------------+\n",
      "only showing top 20 rows\n",
      "\n"
     ]
    }
   ],
   "source": [
    "films_sdf_with_cast_struct_good.select(\"cast\", \"cast_struct\").show()"
   ]
  },
  {
   "cell_type": "code",
   "execution_count": 89,
   "metadata": {},
   "outputs": [
    {
     "name": "stdout",
     "output_type": "stream",
     "text": [
      "root\n",
      " |-- id: string (nullable = true)\n",
      " |-- belongs_to_collection: string (nullable = true)\n",
      " |-- budget: string (nullable = true)\n",
      " |-- genres: string (nullable = true)\n",
      " |-- homepage: string (nullable = true)\n",
      " |-- imdb_id: string (nullable = true)\n",
      " |-- original_language: string (nullable = true)\n",
      " |-- original_title: string (nullable = true)\n",
      " |-- overview: string (nullable = true)\n",
      " |-- popularity: string (nullable = true)\n",
      " |-- poster_path: string (nullable = true)\n",
      " |-- production_companies: string (nullable = true)\n",
      " |-- production_countries: string (nullable = true)\n",
      " |-- release_date: string (nullable = true)\n",
      " |-- runtime: string (nullable = true)\n",
      " |-- spoken_languages: string (nullable = true)\n",
      " |-- status: string (nullable = true)\n",
      " |-- tagline: string (nullable = true)\n",
      " |-- title: string (nullable = true)\n",
      " |-- Keywords: string (nullable = true)\n",
      " |-- cast: string (nullable = true)\n",
      " |-- crew: string (nullable = true)\n",
      " |-- revenue: string (nullable = true)\n",
      " |-- cast_struct: array (nullable = true)\n",
      " |    |-- element: struct (containsNull = true)\n",
      " |    |    |-- cast_id: integer (nullable = true)\n",
      " |    |    |-- name: string (nullable = true)\n",
      "\n"
     ]
    }
   ],
   "source": [
    "films_sdf_with_cast_struct_good.printSchema()"
   ]
  },
  {
   "cell_type": "code",
   "execution_count": 93,
   "metadata": {},
   "outputs": [
    {
     "name": "stdout",
     "output_type": "stream",
     "text": [
      "+---+--------------------+\n",
      "| id|          cast_field|\n",
      "+---+--------------------+\n",
      "|  4|    [1, Vidya Balan]|\n",
      "|  6|   [6, Scott Grimes]|\n",
      "|  8|   [2, Samir Khader]|\n",
      "| 12|[2, Robert Carrad...|\n",
      "| 18|  [7, Ralph Fiennes]|\n",
      "+---+--------------------+\n",
      "only showing top 5 rows\n",
      "\n"
     ]
    }
   ],
   "source": [
    "films_sdf_with_cast_field = films_sdf_with_cast_struct_good\\\n",
    "    .withColumn(\"cast_field\", F.explode(F.col(\"cast_struct\")))\\\n",
    "    .select(\"id\", \"cast_field\")\n",
    "films_sdf_with_cast_field.show(5)"
   ]
  },
  {
   "cell_type": "code",
   "execution_count": 94,
   "metadata": {},
   "outputs": [
    {
     "name": "stdout",
     "output_type": "stream",
     "text": [
      "root\n",
      " |-- id: string (nullable = true)\n",
      " |-- cast_field: struct (nullable = true)\n",
      " |    |-- cast_id: integer (nullable = true)\n",
      " |    |-- name: string (nullable = true)\n",
      "\n"
     ]
    }
   ],
   "source": [
    "films_sdf_with_cast_field.printSchema()"
   ]
  },
  {
   "cell_type": "code",
   "execution_count": 97,
   "metadata": {},
   "outputs": [
    {
     "name": "stdout",
     "output_type": "stream",
     "text": [
      "+------------------+-----+\n",
      "|              name|count|\n",
      "+------------------+-----+\n",
      "|           English|   24|\n",
      "|    Susan Sarandon|   10|\n",
      "| Samuel L. Jackson|   10|\n",
      "|          Meg Ryan|    8|\n",
      "|         Tom Hanks|    8|\n",
      "|       John Cusack|    8|\n",
      "|Sylvester Stallone|    8|\n",
      "| Robert Downey Jr.|    8|\n",
      "|      Cameron Diaz|    8|\n",
      "|    Morgan Freeman|    8|\n",
      "|      Willem Dafoe|    8|\n",
      "| Denzel Washington|    7|\n",
      "|   Richard Jenkins|    7|\n",
      "|     Michael Caine|    7|\n",
      "|        Mel Gibson|    6|\n",
      "|      Ben Kingsley|    6|\n",
      "|       Liam Neeson|    6|\n",
      "|   Brendan Gleeson|    6|\n",
      "|    Milla Jovovich|    6|\n",
      "|  Antonio Banderas|    6|\n",
      "+------------------+-----+\n",
      "only showing top 20 rows\n",
      "\n"
     ]
    }
   ],
   "source": [
    "films_sdf_with_cast_field.select(\"id\", \"cast_field.name\")\\\n",
    "    .groupBy(\"name\")\\\n",
    "    .count()\\\n",
    "    .orderBy(F.desc(\"count\"))\\\n",
    "    .show()"
   ]
  },
  {
   "cell_type": "code",
   "execution_count": 96,
   "metadata": {},
   "outputs": [
    {
     "data": {
      "text/plain": [
       "DataFrame[id: string, cast_field: struct<cast_id:int,name:string>]"
      ]
     },
     "execution_count": 96,
     "metadata": {},
     "output_type": "execute_result"
    }
   ],
   "source": [
    "films_sdf_with_cast_field\\\n",
    "   .groupBy(\"name\")"
   ]
  },
  {
   "cell_type": "code",
   "execution_count": null,
   "metadata": {},
   "outputs": [],
   "source": []
  }
 ],
 "metadata": {
  "kernelspec": {
   "display_name": "Python 3",
   "language": "python",
   "name": "python3"
  },
  "language_info": {
   "codemirror_mode": {
    "name": "ipython",
    "version": 3
   },
   "file_extension": ".py",
   "mimetype": "text/x-python",
   "name": "python",
   "nbconvert_exporter": "python",
   "pygments_lexer": "ipython3",
   "version": "3.6.8"
  }
 },
 "nbformat": 4,
 "nbformat_minor": 2
}

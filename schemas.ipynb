{
 "cells": [
  {
   "cell_type": "markdown",
   "metadata": {},
   "source": [
    "## Schemas\n",
    "\n",
    "<https://www.kaggle.com/c/tmdb-box-office-prediction/data>"
   ]
  },
  {
   "cell_type": "code",
   "execution_count": 65,
   "metadata": {},
   "outputs": [],
   "source": [
    "import pandas as pd\n",
    "\n",
    "from pyspark.sql import SparkSession\n",
    "\n",
    "spark = SparkSession \\\n",
    "    .builder \\\n",
    "    .appName(\"Pyspark course\") \\\n",
    "    .getOrCreate()"
   ]
  },
  {
   "cell_type": "markdown",
   "metadata": {},
   "source": [
    "## Read csv data"
   ]
  },
  {
   "cell_type": "code",
   "execution_count": 66,
   "metadata": {},
   "outputs": [],
   "source": [
    "films_sdf = spark\\\n",
    "    .read\\\n",
    "    .csv(\"data/tmdb-box-office-prediction/train.csv\", header=True)"
   ]
  },
  {
   "cell_type": "code",
   "execution_count": 67,
   "metadata": {},
   "outputs": [
    {
     "name": "stdout",
     "output_type": "stream",
     "text": [
      "root\n",
      " |-- id: string (nullable = true)\n",
      " |-- belongs_to_collection: string (nullable = true)\n",
      " |-- budget: string (nullable = true)\n",
      " |-- genres: string (nullable = true)\n",
      " |-- homepage: string (nullable = true)\n",
      " |-- imdb_id: string (nullable = true)\n",
      " |-- original_language: string (nullable = true)\n",
      " |-- original_title: string (nullable = true)\n",
      " |-- overview: string (nullable = true)\n",
      " |-- popularity: string (nullable = true)\n",
      " |-- poster_path: string (nullable = true)\n",
      " |-- production_companies: string (nullable = true)\n",
      " |-- production_countries: string (nullable = true)\n",
      " |-- release_date: string (nullable = true)\n",
      " |-- runtime: string (nullable = true)\n",
      " |-- spoken_languages: string (nullable = true)\n",
      " |-- status: string (nullable = true)\n",
      " |-- tagline: string (nullable = true)\n",
      " |-- title: string (nullable = true)\n",
      " |-- Keywords: string (nullable = true)\n",
      " |-- cast: string (nullable = true)\n",
      " |-- crew: string (nullable = true)\n",
      " |-- revenue: string (nullable = true)\n",
      "\n"
     ]
    }
   ],
   "source": [
    "films_sdf.printSchema()"
   ]
  },
  {
   "cell_type": "code",
   "execution_count": 76,
   "metadata": {},
   "outputs": [
    {
     "name": "stdout",
     "output_type": "stream",
     "text": [
      "\"[{'cast_id': 1, 'character': 'Mia Thermopolis', 'credit_id': '52fe43fe9251416c7502561f', 'gender': 1, 'id': 1813, 'name': 'Anne Hathaway', 'order': 0, 'profile_path': '/jUMOKwSUBnTcMeN1HfhutiY49Ad.jpg'}, {'cast_id': 2, 'character': 'Queen Clarisse Renaldi', 'credit_id': '52fe43fe9251416c75025623', 'gender': 1, 'id': 5823, 'name': 'Julie Andrews', 'order': 1, 'profile_path': '/6t61jkmfSA6nbYRCKR9s97CgUN6.jpg'}, {'cast_id': 3, 'character': 'Joe', 'credit_id': '52fe43fe9251416c75025627', 'gender': 2, 'id': 1210, 'name': 'H√©ctor Elizondo', 'order': 2, 'profile_path': '/48UNfVFZVr0jyMIlLPhzm8IIM7f.jpg'}, {'cast_id': 4, 'character': 'Viscount Mabrey', 'credit_id': '52fe43fe9251416c7502562b', 'gender': 2, 'id': 655, 'name': 'John Rhys-Davies', 'order': 3, 'profile_path': '/zZ67PuoFfik9QlZyfaEsFBC1yVJ.jpg'}, {'cast_id': 5, 'character': 'Lilly Moscovitz', 'credit_id': '52fe43fe9251416c7502562f', 'gender': 1, 'id': 33656, 'name': 'Heather Matarazzo', 'order': 4, 'profile_path': '/xcwR8aPuSkUCDPIyKU049M1CXph.jpg'}, {'cast_id': 6, 'character': 'Nicholas Devereaux', 'credit_id': '52fe43fe9251416c75025633', 'gender': 2, 'id': 62064, 'name': 'Chris Pine', 'order': 5, 'profile_path': '/vSe6sIsdtcoqBhuWRXynahFg8Vf.jpg'}, {'cast_id': 7, 'character': 'Andrew Jacoby', 'credit_id': '52fe43fe9251416c75025637', 'gender': 2, 'id': 68287, 'name': 'Callum Blue', 'order': 6, 'profile_path': '/3qf8rLoWmXOcCA8Rs9RPIEQ9yLB.jpg'}, {'cast_id': 17, 'character': 'Paolo', 'credit_id': '52fe43fe9251416c75025671', 'gender': 2, 'id': 1211, 'name': 'Larry Miller', 'order': 7, 'profile_path': '/xA8zCxNrwtamLaLWNBkLyX5tGtU.jpg'}, {'cast_id': 18, 'character': 'Asana', 'credit_id': '52fe43fe9251416c75025675', 'gender': 1, 'id': 66896, 'name': 'Raven-Symon√©', 'order': 8, 'profile_path': '/nzklI9bgqsUKVWlnQcT5lSrCyaM.jpg'}, {'cast_id': 19, 'character': 'Charlotte Kutaway', 'credit_id': '52fe43fe9251416c75025679', 'gender': 1, 'id': 303542, 'name': 'Kathleen Marshall', 'order': 9, 'profile_path': '/4ANxOHPa81aqLyP8BQxkwmZrWgK.jpg'}, {'cast_id': 21, 'character': \"\"Mia's Mom Helen\"\"\n"
     ]
    }
   ],
   "source": [
    "print(films_sdf.select(\"cast\").limit(10).toPandas().iloc[1][\"cast\"])"
   ]
  },
  {
   "cell_type": "code",
   "execution_count": 64,
   "metadata": {},
   "outputs": [
    {
     "name": "stdout",
     "output_type": "stream",
     "text": [
      "root\n",
      " |-- id: integer (nullable = true)\n",
      " |-- belongs_to_collection: string (nullable = true)\n",
      " |-- budget: string (nullable = true)\n",
      " |-- genres: array (nullable = true)\n",
      " |    |-- element: struct (containsNull = true)\n",
      " |    |    |-- id: integer (nullable = true)\n",
      " |    |    |-- name: string (nullable = true)\n",
      " |-- homepage: string (nullable = true)\n",
      " |-- imdb_id: string (nullable = true)\n",
      " |-- original_language: string (nullable = true)\n",
      " |-- original_title: string (nullable = true)\n",
      " |-- overview: string (nullable = true)\n",
      " |-- popularity: string (nullable = true)\n",
      " |-- poster_path: string (nullable = true)\n",
      " |-- production_companies: string (nullable = true)\n",
      " |-- production_countries: string (nullable = true)\n",
      " |-- release_date: string (nullable = true)\n",
      " |-- runtime: string (nullable = true)\n",
      " |-- spoken_languages: string (nullable = true)\n",
      " |-- status: string (nullable = true)\n",
      " |-- tagline: string (nullable = true)\n",
      " |-- title: string (nullable = true)\n",
      " |-- Keywords: string (nullable = true)\n",
      " |-- cast: string (nullable = true)\n",
      " |-- crew: string (nullable = true)\n",
      " |-- revenue: string (nullable = true)\n",
      "\n"
     ]
    }
   ],
   "source": [
    "from pyspark.sql.types import IntegerType\n",
    "import pyspark.sql.functions as F\n",
    "\n",
    "films_sdf = films_sdf\\\n",
    "    .withColumn(\"id\", films_sdf.id.cast(IntegerType()))\n",
    "    \n",
    "    \n",
    "films_sdf.printSchema()"
   ]
  },
  {
   "cell_type": "code",
   "execution_count": 7,
   "metadata": {},
   "outputs": [
    {
     "name": "stdout",
     "output_type": "stream",
     "text": [
      "+------------------------------------------------------------------------------------------------------------------------------+\n",
      "|genres                                                                                                                        |\n",
      "+------------------------------------------------------------------------------------------------------------------------------+\n",
      "|[{'id': 35, 'name': 'Comedy'}]                                                                                                |\n",
      "|[{'id': 35, 'name': 'Comedy'}, {'id': 18, 'name': 'Drama'}, {'id': 10751, 'name': 'Family'}, {'id': 10749, 'name': 'Romance'}]|\n",
      "|[{'id': 18, 'name': 'Drama'}]                                                                                                 |\n",
      "|[{'id': 53, 'name': 'Thriller'}, {'id': 18, 'name': 'Drama'}]                                                                 |\n",
      "|[{'id': 28, 'name': 'Action'}, {'id': 53, 'name': 'Thriller'}]                                                                |\n",
      "+------------------------------------------------------------------------------------------------------------------------------+\n",
      "only showing top 5 rows\n",
      "\n"
     ]
    }
   ],
   "source": [
    "films_sdf.select(\"genres\").show(5, truncate=False)"
   ]
  },
  {
   "cell_type": "code",
   "execution_count": 8,
   "metadata": {},
   "outputs": [],
   "source": [
    "from pyspark.sql.types import StructType, StructField, IntegerType, StringType, ArrayType\n",
    "\n",
    "schema = ArrayType(\n",
    "    StructType([\n",
    "        StructField(\"id\", IntegerType()),\n",
    "        StructField(\"name\", StringType())\n",
    "    ])\n",
    ")\n",
    "\n",
    "films_sdf = films_sdf\\\n",
    "    .withColumn(\"genres\", F.from_json(F.col(\"genres\"), schema))"
   ]
  },
  {
   "cell_type": "code",
   "execution_count": 9,
   "metadata": {},
   "outputs": [
    {
     "name": "stdout",
     "output_type": "stream",
     "text": [
      "+--------------------------------------------------------------+\n",
      "|genres                                                        |\n",
      "+--------------------------------------------------------------+\n",
      "|[[35, Comedy]]                                                |\n",
      "|[[35, Comedy], [18, Drama], [10751, Family], [10749, Romance]]|\n",
      "|[[18, Drama]]                                                 |\n",
      "|[[53, Thriller], [18, Drama]]                                 |\n",
      "|[[28, Action], [53, Thriller]]                                |\n",
      "+--------------------------------------------------------------+\n",
      "only showing top 5 rows\n",
      "\n"
     ]
    }
   ],
   "source": [
    "films_sdf.select(\"genres\").show(5, truncate=False)"
   ]
  },
  {
   "cell_type": "code",
   "execution_count": 10,
   "metadata": {},
   "outputs": [
    {
     "name": "stdout",
     "output_type": "stream",
     "text": [
      "root\n",
      " |-- id: integer (nullable = true)\n",
      " |-- belongs_to_collection: string (nullable = true)\n",
      " |-- budget: string (nullable = true)\n",
      " |-- genres: array (nullable = true)\n",
      " |    |-- element: struct (containsNull = true)\n",
      " |    |    |-- id: integer (nullable = true)\n",
      " |    |    |-- name: string (nullable = true)\n",
      " |-- homepage: string (nullable = true)\n",
      " |-- imdb_id: string (nullable = true)\n",
      " |-- original_language: string (nullable = true)\n",
      " |-- original_title: string (nullable = true)\n",
      " |-- overview: string (nullable = true)\n",
      " |-- popularity: string (nullable = true)\n",
      " |-- poster_path: string (nullable = true)\n",
      " |-- production_companies: string (nullable = true)\n",
      " |-- production_countries: string (nullable = true)\n",
      " |-- release_date: string (nullable = true)\n",
      " |-- runtime: string (nullable = true)\n",
      " |-- spoken_languages: string (nullable = true)\n",
      " |-- status: string (nullable = true)\n",
      " |-- tagline: string (nullable = true)\n",
      " |-- title: string (nullable = true)\n",
      " |-- Keywords: string (nullable = true)\n",
      " |-- cast: string (nullable = true)\n",
      " |-- crew: string (nullable = true)\n",
      " |-- revenue: string (nullable = true)\n",
      "\n"
     ]
    }
   ],
   "source": [
    "films_sdf.printSchema()"
   ]
  },
  {
   "cell_type": "code",
   "execution_count": 11,
   "metadata": {},
   "outputs": [
    {
     "name": "stdout",
     "output_type": "stream",
     "text": [
      "+--------------------------------+\n",
      "|name                            |\n",
      "+--------------------------------+\n",
      "|[Comedy]                        |\n",
      "|[Comedy, Drama, Family, Romance]|\n",
      "|[Drama]                         |\n",
      "|[Thriller, Drama]               |\n",
      "|[Action, Thriller]              |\n",
      "+--------------------------------+\n",
      "only showing top 5 rows\n",
      "\n"
     ]
    }
   ],
   "source": [
    "films_sdf.select(\"genres.name\").show(5, truncate=False)"
   ]
  },
  {
   "cell_type": "code",
   "execution_count": 12,
   "metadata": {},
   "outputs": [
    {
     "name": "stdout",
     "output_type": "stream",
     "text": [
      "root\n",
      " |-- name: array (nullable = true)\n",
      " |    |-- element: string (containsNull = true)\n",
      "\n"
     ]
    }
   ],
   "source": [
    "films_sdf.select(\"genres.name\").printSchema()"
   ]
  },
  {
   "cell_type": "markdown",
   "metadata": {},
   "source": [
    "## String manipulation"
   ]
  },
  {
   "cell_type": "code",
   "execution_count": 13,
   "metadata": {},
   "outputs": [],
   "source": [
    "films_sdf2 = spark.read.csv(\"data/tmdb-box-office-prediction/train.csv\", header=True)"
   ]
  },
  {
   "cell_type": "code",
   "execution_count": 15,
   "metadata": {},
   "outputs": [
    {
     "name": "stdout",
     "output_type": "stream",
     "text": [
      "+--------------------------------------------------------------------------------------------------------------------------------------------------------------+\n",
      "|genres                                                                                                                                                        |\n",
      "+--------------------------------------------------------------------------------------------------------------------------------------------------------------+\n",
      "|[{'id': 35, 'name': 'Comedy'}]                                                                                                                                |\n",
      "|[{'id': 35, 'name': 'Comedy'}, {'id': 18, 'name': 'Drama'}, {'id': 10751, 'name': 'Family'}, {'id': 10749, 'name': 'Romance'}]                                |\n",
      "|[{'id': 18, 'name': 'Drama'}]                                                                                                                                 |\n",
      "|[{'id': 53, 'name': 'Thriller'}, {'id': 18, 'name': 'Drama'}]                                                                                                 |\n",
      "|[{'id': 28, 'name': 'Action'}, {'id': 53, 'name': 'Thriller'}]                                                                                                |\n",
      "|[{'id': 16, 'name': 'Animation'}, {'id': 12, 'name': 'Adventure'}, {'id': 10751, 'name': 'Family'}]                                                           |\n",
      "|[{'id': 27, 'name': 'Horror'}, {'id': 53, 'name': 'Thriller'}]                                                                                                |\n",
      "|[{'id': 99, 'name': 'Documentary'}]                                                                                                                           |\n",
      "|[{'id': 28, 'name': 'Action'}, {'id': 35, 'name': 'Comedy'}, {'id': 10402, 'name': 'Music'}, {'id': 10751, 'name': 'Family'}, {'id': 12, 'name': 'Adventure'}]|\n",
      "|[{'id': 35, 'name': 'Comedy'}, {'id': 10402, 'name': 'Music'}]                                                                                                |\n",
      "|[{'id': 18, 'name': 'Drama'}]                                                                                                                                 |\n",
      "|[{'id': 35, 'name': 'Comedy'}]                                                                                                                                |\n",
      "|[{'id': 18, 'name': 'Drama'}]                                                                                                                                 |\n",
      "|[{'id': 35, 'name': 'Comedy'}, {'id': 80, 'name': 'Crime'}]                                                                                                   |\n",
      "|[{'id': 28, 'name': 'Action'}, {'id': 53, 'name': 'Thriller'}, {'id': 878, 'name': 'Science Fiction'}, {'id': 9648, 'name': 'Mystery'}]                       |\n",
      "|[{'id': 28, 'name': 'Action'}, {'id': 80, 'name': 'Crime'}, {'id': 18, 'name': 'Drama'}]                                                                      |\n",
      "|[{'id': 27, 'name': 'Horror'}, {'id': 53, 'name': 'Thriller'}]                                                                                                |\n",
      "|[{'id': 18, 'name': 'Drama'}, {'id': 10749, 'name': 'Romance'}]                                                                                               |\n",
      "|[{'id': 35, 'name': 'Comedy'}, {'id': 10749, 'name': 'Romance'}]                                                                                              |\n",
      "|[{'id': 28, 'name': 'Action'}, {'id': 53, 'name': 'Thriller'}, {'id': 80, 'name': 'Crime'}]                                                                   |\n",
      "+--------------------------------------------------------------------------------------------------------------------------------------------------------------+\n",
      "only showing top 20 rows\n",
      "\n"
     ]
    }
   ],
   "source": [
    "films_sdf2.select(\"genres\").show(truncate=False)"
   ]
  },
  {
   "cell_type": "code",
   "execution_count": 20,
   "metadata": {},
   "outputs": [
    {
     "name": "stdout",
     "output_type": "stream",
     "text": [
      "+---+----------------------------------------------------------------------------------------------------------------------------+\n",
      "|id |genres                                                                                                                      |\n",
      "+---+----------------------------------------------------------------------------------------------------------------------------+\n",
      "|1  |{'id': 35, 'name': 'Comedy'}                                                                                                |\n",
      "|2  |{'id': 35, 'name': 'Comedy'}, {'id': 18, 'name': 'Drama'}, {'id': 10751, 'name': 'Family'}, {'id': 10749, 'name': 'Romance'}|\n",
      "|3  |{'id': 18, 'name': 'Drama'}                                                                                                 |\n",
      "+---+----------------------------------------------------------------------------------------------------------------------------+\n",
      "only showing top 3 rows\n",
      "\n"
     ]
    }
   ],
   "source": [
    "genres_col = films_sdf2\\\n",
    "    .select(\n",
    "    \"id\", \n",
    "    F.col(\"genres\").substr(F.lit(2), F.length(F.col(\"genres\"))-2).alias(\"genres\"))\n",
    "\n",
    "genres_col.show(3, truncate=False)"
   ]
  },
  {
   "cell_type": "code",
   "execution_count": 24,
   "metadata": {},
   "outputs": [
    {
     "data": {
      "text/plain": [
       "[Row(id='1', genres=\"{'id': 35, 'name': 'Comedy'}\", genres_array=[\"{'id': 35, 'name': 'Comedy'}\"]),\n",
       " Row(id='2', genres=\"{'id': 35, 'name': 'Comedy'}, {'id': 18, 'name': 'Drama'}, {'id': 10751, 'name': 'Family'}, {'id': 10749, 'name': 'Romance'}\", genres_array=[\"{'id': 35, 'name': 'Comedy'}\", \"{'id': 18, 'name': 'Drama'}\", \"{'id': 10751, 'name': 'Family'}\", \"{'id': 10749, 'name': 'Romance'}\"])]"
      ]
     },
     "execution_count": 24,
     "metadata": {},
     "output_type": "execute_result"
    }
   ],
   "source": [
    "genres_col\\\n",
    "     .withColumn(\"genres_array\", F.split(F.col(\"genres\"), '(?<=}), '))\\\n",
    "     .head(2)"
   ]
  },
  {
   "cell_type": "code",
   "execution_count": 34,
   "metadata": {},
   "outputs": [
    {
     "name": "stdout",
     "output_type": "stream",
     "text": [
      "+---+---------------------------------+\n",
      "|id |genre                            |\n",
      "+---+---------------------------------+\n",
      "|1  |{'id': 35, 'name': 'Comedy'}     |\n",
      "|2  |{'id': 35, 'name': 'Comedy'}     |\n",
      "|2  |{'id': 18, 'name': 'Drama'}      |\n",
      "|2  |{'id': 10751, 'name': 'Family'}  |\n",
      "|2  |{'id': 10749, 'name': 'Romance'} |\n",
      "|3  |{'id': 18, 'name': 'Drama'}      |\n",
      "|4  |{'id': 53, 'name': 'Thriller'}   |\n",
      "|4  |{'id': 18, 'name': 'Drama'}      |\n",
      "|5  |{'id': 28, 'name': 'Action'}     |\n",
      "|5  |{'id': 53, 'name': 'Thriller'}   |\n",
      "|6  |{'id': 16, 'name': 'Animation'}  |\n",
      "|6  |{'id': 12, 'name': 'Adventure'}  |\n",
      "|6  |{'id': 10751, 'name': 'Family'}  |\n",
      "|7  |{'id': 27, 'name': 'Horror'}     |\n",
      "|7  |{'id': 53, 'name': 'Thriller'}   |\n",
      "|8  |{'id': 99, 'name': 'Documentary'}|\n",
      "|9  |{'id': 28, 'name': 'Action'}     |\n",
      "|9  |{'id': 35, 'name': 'Comedy'}     |\n",
      "|9  |{'id': 10402, 'name': 'Music'}   |\n",
      "|9  |{'id': 10751, 'name': 'Family'}  |\n",
      "+---+---------------------------------+\n",
      "only showing top 20 rows\n",
      "\n"
     ]
    }
   ],
   "source": [
    "genre_sdf = genres_col\\\n",
    "    .select(\"id\", F.explode(F.split(F.col(\"genres\"), '(?<=}), ')).alias(\"genre\"))\n",
    "\n",
    "genre_sdf.show(truncate=False)"
   ]
  },
  {
   "cell_type": "code",
   "execution_count": 37,
   "metadata": {},
   "outputs": [
    {
     "name": "stdout",
     "output_type": "stream",
     "text": [
      "+-----------+-----+\n",
      "| genre_name|count|\n",
      "+-----------+-----+\n",
      "|      Drama| 1527|\n",
      "|     Comedy| 1018|\n",
      "|   Thriller|  786|\n",
      "|     Action|  740|\n",
      "|    Romance|  569|\n",
      "|      Crime|  467|\n",
      "|  Adventure|  435|\n",
      "|     Horror|  296|\n",
      "|    Science|  289|\n",
      "|     Family|  257|\n",
      "|    Fantasy|  231|\n",
      "|    Mystery|  224|\n",
      "|  Animation|  140|\n",
      "|    History|  132|\n",
      "|      Music|  100|\n",
      "|        War|  100|\n",
      "|Documentary|   87|\n",
      "|    Western|   43|\n",
      "|    Foreign|   31|\n",
      "|           |   18|\n",
      "+-----------+-----+\n",
      "\n"
     ]
    }
   ],
   "source": [
    "genre_sdf.select(\n",
    "    F.col('id'),\n",
    "    F.regexp_extract(F.col(\"genre\"), \"(?<='name':\\ ')[A-Z][a-z]+\", 0).alias(\"genre_name\")\n",
    "    ).groupBy(\"genre_name\")\\\n",
    "    .count().orderBy(F.desc(\"count\")).show()"
   ]
  },
  {
   "cell_type": "markdown",
   "metadata": {},
   "source": [
    "## Saving data"
   ]
  },
  {
   "cell_type": "code",
   "execution_count": 38,
   "metadata": {},
   "outputs": [
    {
     "name": "stdout",
     "output_type": "stream",
     "text": [
      "root\n",
      " |-- id: integer (nullable = true)\n",
      " |-- belongs_to_collection: string (nullable = true)\n",
      " |-- budget: string (nullable = true)\n",
      " |-- genres: array (nullable = true)\n",
      " |    |-- element: struct (containsNull = true)\n",
      " |    |    |-- id: integer (nullable = true)\n",
      " |    |    |-- name: string (nullable = true)\n",
      " |-- homepage: string (nullable = true)\n",
      " |-- imdb_id: string (nullable = true)\n",
      " |-- original_language: string (nullable = true)\n",
      " |-- original_title: string (nullable = true)\n",
      " |-- overview: string (nullable = true)\n",
      " |-- popularity: string (nullable = true)\n",
      " |-- poster_path: string (nullable = true)\n",
      " |-- production_companies: string (nullable = true)\n",
      " |-- production_countries: string (nullable = true)\n",
      " |-- release_date: string (nullable = true)\n",
      " |-- runtime: string (nullable = true)\n",
      " |-- spoken_languages: string (nullable = true)\n",
      " |-- status: string (nullable = true)\n",
      " |-- tagline: string (nullable = true)\n",
      " |-- title: string (nullable = true)\n",
      " |-- Keywords: string (nullable = true)\n",
      " |-- cast: string (nullable = true)\n",
      " |-- crew: string (nullable = true)\n",
      " |-- revenue: string (nullable = true)\n",
      "\n"
     ]
    }
   ],
   "source": [
    "films_sdf.printSchema()"
   ]
  },
  {
   "cell_type": "code",
   "execution_count": 43,
   "metadata": {},
   "outputs": [],
   "source": [
    "films_sdf.repartition(2).write.mode('overwrite').parquet(\"data/tmdb1\")"
   ]
  },
  {
   "cell_type": "code",
   "execution_count": 44,
   "metadata": {},
   "outputs": [
    {
     "name": "stdout",
     "output_type": "stream",
     "text": [
      "part-00000-2a1c97ba-29fd-4c3f-b3d6-fd27cc4b6927-c000.snappy.parquet  _SUCCESS\r\n",
      "part-00001-2a1c97ba-29fd-4c3f-b3d6-fd27cc4b6927-c000.snappy.parquet\r\n"
     ]
    }
   ],
   "source": [
    "!ls data/tmdb1"
   ]
  },
  {
   "cell_type": "code",
   "execution_count": 48,
   "metadata": {},
   "outputs": [],
   "source": [
    "new_films_sdf = spark.read.parquet(\"data/tmdb1\")"
   ]
  },
  {
   "cell_type": "code",
   "execution_count": 50,
   "metadata": {},
   "outputs": [
    {
     "name": "stdout",
     "output_type": "stream",
     "text": [
      "root\n",
      " |-- id: integer (nullable = true)\n",
      " |-- belongs_to_collection: string (nullable = true)\n",
      " |-- budget: string (nullable = true)\n",
      " |-- genres: array (nullable = true)\n",
      " |    |-- element: struct (containsNull = true)\n",
      " |    |    |-- id: integer (nullable = true)\n",
      " |    |    |-- name: string (nullable = true)\n",
      " |-- homepage: string (nullable = true)\n",
      " |-- imdb_id: string (nullable = true)\n",
      " |-- original_language: string (nullable = true)\n",
      " |-- original_title: string (nullable = true)\n",
      " |-- overview: string (nullable = true)\n",
      " |-- popularity: string (nullable = true)\n",
      " |-- poster_path: string (nullable = true)\n",
      " |-- production_companies: string (nullable = true)\n",
      " |-- production_countries: string (nullable = true)\n",
      " |-- release_date: string (nullable = true)\n",
      " |-- runtime: string (nullable = true)\n",
      " |-- spoken_languages: string (nullable = true)\n",
      " |-- status: string (nullable = true)\n",
      " |-- tagline: string (nullable = true)\n",
      " |-- title: string (nullable = true)\n",
      " |-- Keywords: string (nullable = true)\n",
      " |-- cast: string (nullable = true)\n",
      " |-- crew: string (nullable = true)\n",
      " |-- revenue: string (nullable = true)\n",
      "\n"
     ]
    }
   ],
   "source": [
    "new_films_sdf.printSchema()"
   ]
  },
  {
   "cell_type": "markdown",
   "metadata": {},
   "source": [
    "## Schema"
   ]
  },
  {
   "cell_type": "code",
   "execution_count": 51,
   "metadata": {},
   "outputs": [],
   "source": [
    "from pyspark.sql.types import StructField, StructType, IntegerType, LongType\n",
    "\n",
    "schema = \\\n",
    "StructType([\n",
    "    StructField(\"id\", IntegerType(), False),\n",
    "    StructField(\"genres\", ArrayType(\n",
    "        StructType([\n",
    "            StructField(\"id\", IntegerType()),\n",
    "            StructField(\"name\", StringType())\n",
    "        ])))\n",
    "    ])"
   ]
  },
  {
   "cell_type": "code",
   "execution_count": 52,
   "metadata": {},
   "outputs": [],
   "source": [
    "new_films_sdf = spark.read.schema(schema=schema).parquet(\"data/tmdb1\")"
   ]
  },
  {
   "cell_type": "code",
   "execution_count": 53,
   "metadata": {},
   "outputs": [
    {
     "name": "stdout",
     "output_type": "stream",
     "text": [
      "root\n",
      " |-- id: integer (nullable = true)\n",
      " |-- genres: array (nullable = true)\n",
      " |    |-- element: struct (containsNull = true)\n",
      " |    |    |-- id: integer (nullable = true)\n",
      " |    |    |-- name: string (nullable = true)\n",
      "\n"
     ]
    }
   ],
   "source": [
    "new_films_sdf.printSchema()"
   ]
  },
  {
   "cell_type": "markdown",
   "metadata": {},
   "source": [
    "## Partition"
   ]
  },
  {
   "cell_type": "code",
   "execution_count": 54,
   "metadata": {},
   "outputs": [],
   "source": [
    "sales_sdf = spark.read.option(\"header\", \"true\").csv(\"data/competitive-data-science-predict-future-sales/sales_train.csv.gz\")"
   ]
  },
  {
   "cell_type": "code",
   "execution_count": 55,
   "metadata": {},
   "outputs": [],
   "source": [
    "import pyspark.sql.functions as F\n",
    "sales_with_iso_dates = sales_sdf\\\n",
    "    .withColumn(\"date\", F.from_unixtime(F.unix_timestamp(F.col(\"date\"), 'dd.MM.yyyy')))\\\n",
    "    .withColumn(\"year\", F.year(\"date\"))\\\n",
    "    .withColumn(\"month\", F.month(\"date\"))\\\n",
    "    .withColumn(\"day\", F.dayofmonth(\"date\"))"
   ]
  },
  {
   "cell_type": "code",
   "execution_count": 56,
   "metadata": {},
   "outputs": [
    {
     "name": "stdout",
     "output_type": "stream",
     "text": [
      "+-------------------+--------------+-------+-------+----------+------------+----+-----+---+\n",
      "|               date|date_block_num|shop_id|item_id|item_price|item_cnt_day|year|month|day|\n",
      "+-------------------+--------------+-------+-------+----------+------------+----+-----+---+\n",
      "|2013-01-02 00:00:00|             0|     59|  22154|     999.0|         1.0|2013|    1|  2|\n",
      "|2013-01-03 00:00:00|             0|     25|   2552|     899.0|         1.0|2013|    1|  3|\n",
      "|2013-01-05 00:00:00|             0|     25|   2552|     899.0|        -1.0|2013|    1|  5|\n",
      "|2013-01-06 00:00:00|             0|     25|   2554|   1709.05|         1.0|2013|    1|  6|\n",
      "|2013-01-15 00:00:00|             0|     25|   2555|    1099.0|         1.0|2013|    1| 15|\n",
      "|2013-01-10 00:00:00|             0|     25|   2564|     349.0|         1.0|2013|    1| 10|\n",
      "|2013-01-02 00:00:00|             0|     25|   2565|     549.0|         1.0|2013|    1|  2|\n",
      "|2013-01-04 00:00:00|             0|     25|   2572|     239.0|         1.0|2013|    1|  4|\n",
      "|2013-01-11 00:00:00|             0|     25|   2572|     299.0|         1.0|2013|    1| 11|\n",
      "|2013-01-03 00:00:00|             0|     25|   2573|     299.0|         3.0|2013|    1|  3|\n",
      "|2013-01-03 00:00:00|             0|     25|   2574|     399.0|         2.0|2013|    1|  3|\n",
      "|2013-01-05 00:00:00|             0|     25|   2574|     399.0|         1.0|2013|    1|  5|\n",
      "|2013-01-07 00:00:00|             0|     25|   2574|     399.0|         1.0|2013|    1|  7|\n",
      "|2013-01-08 00:00:00|             0|     25|   2574|     399.0|         2.0|2013|    1|  8|\n",
      "|2013-01-10 00:00:00|             0|     25|   2574|     399.0|         1.0|2013|    1| 10|\n",
      "|2013-01-11 00:00:00|             0|     25|   2574|     399.0|         2.0|2013|    1| 11|\n",
      "|2013-01-13 00:00:00|             0|     25|   2574|     399.0|         1.0|2013|    1| 13|\n",
      "|2013-01-16 00:00:00|             0|     25|   2574|     399.0|         1.0|2013|    1| 16|\n",
      "|2013-01-26 00:00:00|             0|     25|   2574|     399.0|         1.0|2013|    1| 26|\n",
      "|2013-01-27 00:00:00|             0|     25|   2574|     399.0|         1.0|2013|    1| 27|\n",
      "+-------------------+--------------+-------+-------+----------+------------+----+-----+---+\n",
      "only showing top 20 rows\n",
      "\n"
     ]
    }
   ],
   "source": [
    "sales_with_iso_dates.show()"
   ]
  },
  {
   "cell_type": "code",
   "execution_count": 57,
   "metadata": {},
   "outputs": [],
   "source": [
    "sales_with_iso_dates.write.partitionBy(\"year\", \"month\", \"day\").mode('overwrite').parquet(\"data/tmdb2\")"
   ]
  },
  {
   "cell_type": "code",
   "execution_count": 58,
   "metadata": {},
   "outputs": [
    {
     "name": "stdout",
     "output_type": "stream",
     "text": [
      " _SUCCESS  'year=2013'\t'year=2014'  'year=2015'\r\n"
     ]
    }
   ],
   "source": [
    "!ls data/tmdb2"
   ]
  },
  {
   "cell_type": "code",
   "execution_count": 59,
   "metadata": {},
   "outputs": [
    {
     "name": "stdout",
     "output_type": "stream",
     "text": [
      "part-00000-57d39b5d-b032-4205-9b3f-c1c8c6cf3fdc.c000.snappy.parquet\r\n"
     ]
    }
   ],
   "source": [
    "!ls data/tmdb2/year=2013/month=3/day=19"
   ]
  },
  {
   "cell_type": "code",
   "execution_count": 60,
   "metadata": {},
   "outputs": [],
   "source": [
    "films_sdf2 = spark.read.parquet(\"data/tmdb2/year=2013\")"
   ]
  },
  {
   "cell_type": "code",
   "execution_count": 61,
   "metadata": {},
   "outputs": [
    {
     "name": "stdout",
     "output_type": "stream",
     "text": [
      "+-------------------+--------------+-------+-------+----------+------------+-----+---+\n",
      "|               date|date_block_num|shop_id|item_id|item_price|item_cnt_day|month|day|\n",
      "+-------------------+--------------+-------+-------+----------+------------+-----+---+\n",
      "|2013-12-28 00:00:00|            11|     25|  17760|    3250.0|         1.0|   12| 28|\n",
      "|2013-12-28 00:00:00|            11|     25|  17792|     349.0|         1.0|   12| 28|\n",
      "|2013-12-28 00:00:00|            11|     25|  17490|     149.0|         1.0|   12| 28|\n",
      "|2013-12-28 00:00:00|            11|     25|  17505|    3799.0|         1.0|   12| 28|\n",
      "|2013-12-28 00:00:00|            11|     25|  17865|     169.0|         1.0|   12| 28|\n",
      "|2013-12-28 00:00:00|            11|     25|  17846|     149.0|         1.0|   12| 28|\n",
      "|2013-12-28 00:00:00|            11|     25|  17918|     149.0|         1.0|   12| 28|\n",
      "|2013-12-28 00:00:00|            11|     25|  17839|     149.0|         1.0|   12| 28|\n",
      "|2013-12-28 00:00:00|            11|     25|  17802|     399.0|         1.0|   12| 28|\n",
      "|2013-12-28 00:00:00|            11|     25|  17803|     549.0|         1.0|   12| 28|\n",
      "|2013-12-28 00:00:00|            11|     25|  17818|     149.0|         1.0|   12| 28|\n",
      "|2013-12-28 00:00:00|            11|     25|  17715|    1799.0|         1.0|   12| 28|\n",
      "|2013-12-28 00:00:00|            11|     25|  17064|     149.0|         1.0|   12| 28|\n",
      "|2013-12-28 00:00:00|            11|     25|  17223|     199.0|         1.0|   12| 28|\n",
      "|2013-12-28 00:00:00|            11|     25|  17056|     499.0|         3.0|   12| 28|\n",
      "|2013-12-28 00:00:00|            11|     25|  17224|     199.0|         1.0|   12| 28|\n",
      "|2013-12-28 00:00:00|            11|     25|  16983|     399.0|         2.0|   12| 28|\n",
      "|2013-12-28 00:00:00|            11|     25|  16984|    1399.0|         1.0|   12| 28|\n",
      "|2013-12-28 00:00:00|            11|     25|  17055|     299.0|         2.0|   12| 28|\n",
      "|2013-12-28 00:00:00|            11|     25|  17322|     149.0|         1.0|   12| 28|\n",
      "+-------------------+--------------+-------+-------+----------+------------+-----+---+\n",
      "only showing top 20 rows\n",
      "\n"
     ]
    }
   ],
   "source": [
    "films_sdf2.show()"
   ]
  },
  {
   "cell_type": "code",
   "execution_count": 62,
   "metadata": {},
   "outputs": [],
   "source": [
    "films_sdf3 = spark\\\n",
    "    .read\\\n",
    "    .option(\"basePath\", \"data/tmdb2\")\\\n",
    "    .parquet(\n",
    "        \"data/tmdb2/year=2014/month=3\",\n",
    "        \"data/tmdb2/year=2014/month=4\"\n",
    "    )"
   ]
  },
  {
   "cell_type": "code",
   "execution_count": 63,
   "metadata": {},
   "outputs": [
    {
     "name": "stdout",
     "output_type": "stream",
     "text": [
      "+----+-----+-----+\n",
      "|year|month|count|\n",
      "+----+-----+-----+\n",
      "|2014|    4|77906|\n",
      "|2014|    3|92733|\n",
      "+----+-----+-----+\n",
      "\n"
     ]
    }
   ],
   "source": [
    "films_sdf3.groupBy(\"year\", \"month\").count().show()"
   ]
  },
  {
   "cell_type": "code",
   "execution_count": null,
   "metadata": {},
   "outputs": [],
   "source": []
  }
 ],
 "metadata": {
  "kernelspec": {
   "display_name": "Python 3",
   "language": "python",
   "name": "python3"
  },
  "language_info": {
   "codemirror_mode": {
    "name": "ipython",
    "version": 3
   },
   "file_extension": ".py",
   "mimetype": "text/x-python",
   "name": "python",
   "nbconvert_exporter": "python",
   "pygments_lexer": "ipython3",
   "version": "3.6.8"
  }
 },
 "nbformat": 4,
 "nbformat_minor": 2
}

{
 "cells": [
  {
   "cell_type": "markdown",
   "metadata": {},
   "source": [
    "## Schemas\n",
    "\n",
    "<https://www.kaggle.com/c/tmdb-box-office-prediction/data>"
   ]
  },
  {
   "cell_type": "code",
   "execution_count": 3,
   "metadata": {},
   "outputs": [],
   "source": [
    "import pandas as pd"
   ]
  },
  {
   "cell_type": "markdown",
   "metadata": {},
   "source": [
    "## Read csv data"
   ]
  },
  {
   "cell_type": "code",
   "execution_count": 4,
   "metadata": {},
   "outputs": [],
   "source": [
    "films_sdf = spark.read.csv(\"data/tmdb-box-office-prediction/train.csv\", header=True)"
   ]
  },
  {
   "cell_type": "code",
   "execution_count": 5,
   "metadata": {},
   "outputs": [
    {
     "name": "stdout",
     "output_type": "stream",
     "text": [
      "root\n",
      " |-- id: string (nullable = true)\n",
      " |-- belongs_to_collection: string (nullable = true)\n",
      " |-- budget: string (nullable = true)\n",
      " |-- genres: string (nullable = true)\n",
      " |-- homepage: string (nullable = true)\n",
      " |-- imdb_id: string (nullable = true)\n",
      " |-- original_language: string (nullable = true)\n",
      " |-- original_title: string (nullable = true)\n",
      " |-- overview: string (nullable = true)\n",
      " |-- popularity: string (nullable = true)\n",
      " |-- poster_path: string (nullable = true)\n",
      " |-- production_companies: string (nullable = true)\n",
      " |-- production_countries: string (nullable = true)\n",
      " |-- release_date: string (nullable = true)\n",
      " |-- runtime: string (nullable = true)\n",
      " |-- spoken_languages: string (nullable = true)\n",
      " |-- status: string (nullable = true)\n",
      " |-- tagline: string (nullable = true)\n",
      " |-- title: string (nullable = true)\n",
      " |-- Keywords: string (nullable = true)\n",
      " |-- cast: string (nullable = true)\n",
      " |-- crew: string (nullable = true)\n",
      " |-- revenue: string (nullable = true)\n",
      "\n"
     ]
    }
   ],
   "source": [
    "films_sdf.printSchema()"
   ]
  },
  {
   "cell_type": "code",
   "execution_count": 6,
   "metadata": {},
   "outputs": [
    {
     "name": "stdout",
     "output_type": "stream",
     "text": [
      "root\n",
      " |-- id: integer (nullable = true)\n",
      " |-- belongs_to_collection: string (nullable = true)\n",
      " |-- budget: string (nullable = true)\n",
      " |-- genres: string (nullable = true)\n",
      " |-- homepage: string (nullable = true)\n",
      " |-- imdb_id: string (nullable = true)\n",
      " |-- original_language: string (nullable = true)\n",
      " |-- original_title: string (nullable = true)\n",
      " |-- overview: string (nullable = true)\n",
      " |-- popularity: string (nullable = true)\n",
      " |-- poster_path: string (nullable = true)\n",
      " |-- production_companies: string (nullable = true)\n",
      " |-- production_countries: string (nullable = true)\n",
      " |-- release_date: string (nullable = true)\n",
      " |-- runtime: string (nullable = true)\n",
      " |-- spoken_languages: string (nullable = true)\n",
      " |-- status: string (nullable = true)\n",
      " |-- tagline: string (nullable = true)\n",
      " |-- title: string (nullable = true)\n",
      " |-- Keywords: string (nullable = true)\n",
      " |-- cast: string (nullable = true)\n",
      " |-- crew: string (nullable = true)\n",
      " |-- revenue: string (nullable = true)\n",
      "\n"
     ]
    }
   ],
   "source": [
    "from pyspark.sql.types import IntegerType\n",
    "import pyspark.sql.functions as F\n",
    "\n",
    "films_sdf = films_sdf\\\n",
    "    .withColumn(\"id\", films_sdf.id.cast(IntegerType()))\n",
    "    \n",
    "    \n",
    "films_sdf.printSchema()"
   ]
  },
  {
   "cell_type": "code",
   "execution_count": 7,
   "metadata": {},
   "outputs": [
    {
     "name": "stdout",
     "output_type": "stream",
     "text": [
      "+------------------------------------------------------------------------------------------------------------------------------+\n",
      "|genres                                                                                                                        |\n",
      "+------------------------------------------------------------------------------------------------------------------------------+\n",
      "|[{'id': 35, 'name': 'Comedy'}]                                                                                                |\n",
      "|[{'id': 35, 'name': 'Comedy'}, {'id': 18, 'name': 'Drama'}, {'id': 10751, 'name': 'Family'}, {'id': 10749, 'name': 'Romance'}]|\n",
      "|[{'id': 18, 'name': 'Drama'}]                                                                                                 |\n",
      "|[{'id': 53, 'name': 'Thriller'}, {'id': 18, 'name': 'Drama'}]                                                                 |\n",
      "|[{'id': 28, 'name': 'Action'}, {'id': 53, 'name': 'Thriller'}]                                                                |\n",
      "+------------------------------------------------------------------------------------------------------------------------------+\n",
      "only showing top 5 rows\n",
      "\n"
     ]
    }
   ],
   "source": [
    "films_sdf.select(\"genres\").show(5, truncate=False)"
   ]
  },
  {
   "cell_type": "code",
   "execution_count": 8,
   "metadata": {},
   "outputs": [],
   "source": [
    "from pyspark.sql.types import StructType, StructField, IntegerType, StringType, ArrayType\n",
    "\n",
    "schema = ArrayType(\n",
    "    StructType([\n",
    "        StructField(\"id\", IntegerType()),\n",
    "        StructField(\"name\", StringType())\n",
    "    ])\n",
    ")\n",
    "\n",
    "films_sdf = films_sdf\\\n",
    "    .withColumn(\"genres\", F.from_json(F.col(\"genres\"), schema))"
   ]
  },
  {
   "cell_type": "code",
   "execution_count": 9,
   "metadata": {},
   "outputs": [
    {
     "name": "stdout",
     "output_type": "stream",
     "text": [
      "+--------------------------------------------------------------+\n",
      "|genres                                                        |\n",
      "+--------------------------------------------------------------+\n",
      "|[[35, Comedy]]                                                |\n",
      "|[[35, Comedy], [18, Drama], [10751, Family], [10749, Romance]]|\n",
      "|[[18, Drama]]                                                 |\n",
      "|[[53, Thriller], [18, Drama]]                                 |\n",
      "|[[28, Action], [53, Thriller]]                                |\n",
      "+--------------------------------------------------------------+\n",
      "only showing top 5 rows\n",
      "\n"
     ]
    }
   ],
   "source": [
    "films_sdf.select(\"genres\").show(5, truncate=False)"
   ]
  },
  {
   "cell_type": "code",
   "execution_count": 10,
   "metadata": {},
   "outputs": [
    {
     "name": "stdout",
     "output_type": "stream",
     "text": [
      "root\n",
      " |-- id: integer (nullable = true)\n",
      " |-- belongs_to_collection: string (nullable = true)\n",
      " |-- budget: string (nullable = true)\n",
      " |-- genres: array (nullable = true)\n",
      " |    |-- element: struct (containsNull = true)\n",
      " |    |    |-- id: integer (nullable = true)\n",
      " |    |    |-- name: string (nullable = true)\n",
      " |-- homepage: string (nullable = true)\n",
      " |-- imdb_id: string (nullable = true)\n",
      " |-- original_language: string (nullable = true)\n",
      " |-- original_title: string (nullable = true)\n",
      " |-- overview: string (nullable = true)\n",
      " |-- popularity: string (nullable = true)\n",
      " |-- poster_path: string (nullable = true)\n",
      " |-- production_companies: string (nullable = true)\n",
      " |-- production_countries: string (nullable = true)\n",
      " |-- release_date: string (nullable = true)\n",
      " |-- runtime: string (nullable = true)\n",
      " |-- spoken_languages: string (nullable = true)\n",
      " |-- status: string (nullable = true)\n",
      " |-- tagline: string (nullable = true)\n",
      " |-- title: string (nullable = true)\n",
      " |-- Keywords: string (nullable = true)\n",
      " |-- cast: string (nullable = true)\n",
      " |-- crew: string (nullable = true)\n",
      " |-- revenue: string (nullable = true)\n",
      "\n"
     ]
    }
   ],
   "source": [
    "films_sdf.printSchema()"
   ]
  },
  {
   "cell_type": "code",
   "execution_count": 11,
   "metadata": {},
   "outputs": [
    {
     "name": "stdout",
     "output_type": "stream",
     "text": [
      "+--------------------------------+\n",
      "|name                            |\n",
      "+--------------------------------+\n",
      "|[Comedy]                        |\n",
      "|[Comedy, Drama, Family, Romance]|\n",
      "|[Drama]                         |\n",
      "|[Thriller, Drama]               |\n",
      "|[Action, Thriller]              |\n",
      "+--------------------------------+\n",
      "only showing top 5 rows\n",
      "\n"
     ]
    }
   ],
   "source": [
    "films_sdf.select(\"genres.name\").show(5, truncate=False)"
   ]
  },
  {
   "cell_type": "code",
   "execution_count": 12,
   "metadata": {},
   "outputs": [
    {
     "name": "stdout",
     "output_type": "stream",
     "text": [
      "root\n",
      " |-- name: array (nullable = true)\n",
      " |    |-- element: string (containsNull = true)\n",
      "\n"
     ]
    }
   ],
   "source": [
    "films_sdf.select(\"genres.name\").printSchema()"
   ]
  },
  {
   "cell_type": "markdown",
   "metadata": {},
   "source": [
    "## String manipulation"
   ]
  },
  {
   "cell_type": "code",
   "execution_count": 27,
   "metadata": {},
   "outputs": [],
   "source": [
    "films_sdf2 = spark.read.csv(\"data/tmdb-box-office-prediction/train.csv\", header=True)"
   ]
  },
  {
   "cell_type": "code",
   "execution_count": 28,
   "metadata": {},
   "outputs": [
    {
     "name": "stdout",
     "output_type": "stream",
     "text": [
      "+---+----------------------------------------------------------------------------------------------------------------------------+\n",
      "|id |genres                                                                                                                      |\n",
      "+---+----------------------------------------------------------------------------------------------------------------------------+\n",
      "|1  |{'id': 35, 'name': 'Comedy'}                                                                                                |\n",
      "|2  |{'id': 35, 'name': 'Comedy'}, {'id': 18, 'name': 'Drama'}, {'id': 10751, 'name': 'Family'}, {'id': 10749, 'name': 'Romance'}|\n",
      "|3  |{'id': 18, 'name': 'Drama'}                                                                                                 |\n",
      "+---+----------------------------------------------------------------------------------------------------------------------------+\n",
      "only showing top 3 rows\n",
      "\n"
     ]
    }
   ],
   "source": [
    "genres_col = films_sdf2\\\n",
    "    .select(\"id\", F.col(\"genres\").substr(F.lit(2), F.length(F.col(\"genres\"))-2).alias(\"genres\"))\n",
    "genres_col.show(3, truncate=False)"
   ]
  },
  {
   "cell_type": "code",
   "execution_count": 42,
   "metadata": {},
   "outputs": [
    {
     "name": "stdout",
     "output_type": "stream",
     "text": [
      "+---+---------------------------------+\n",
      "|id |genre                            |\n",
      "+---+---------------------------------+\n",
      "|1  |{'id': 35, 'name': 'Comedy'}     |\n",
      "|2  |{'id': 35, 'name': 'Comedy'}     |\n",
      "|2  |{'id': 18, 'name': 'Drama'}      |\n",
      "|2  |{'id': 10751, 'name': 'Family'}  |\n",
      "|2  |{'id': 10749, 'name': 'Romance'} |\n",
      "|3  |{'id': 18, 'name': 'Drama'}      |\n",
      "|4  |{'id': 53, 'name': 'Thriller'}   |\n",
      "|4  |{'id': 18, 'name': 'Drama'}      |\n",
      "|5  |{'id': 28, 'name': 'Action'}     |\n",
      "|5  |{'id': 53, 'name': 'Thriller'}   |\n",
      "|6  |{'id': 16, 'name': 'Animation'}  |\n",
      "|6  |{'id': 12, 'name': 'Adventure'}  |\n",
      "|6  |{'id': 10751, 'name': 'Family'}  |\n",
      "|7  |{'id': 27, 'name': 'Horror'}     |\n",
      "|7  |{'id': 53, 'name': 'Thriller'}   |\n",
      "|8  |{'id': 99, 'name': 'Documentary'}|\n",
      "|9  |{'id': 28, 'name': 'Action'}     |\n",
      "|9  |{'id': 35, 'name': 'Comedy'}     |\n",
      "|9  |{'id': 10402, 'name': 'Music'}   |\n",
      "|9  |{'id': 10751, 'name': 'Family'}  |\n",
      "+---+---------------------------------+\n",
      "only showing top 20 rows\n",
      "\n"
     ]
    }
   ],
   "source": [
    "genre_sdf = genres_col\\\n",
    "    .select(\"id\", F.explode(F.split(F.col(\"genres\"), '(?<=}), ')).alias(\"genre\"))\n",
    "\n",
    "genre_sdf.show(truncate=False)"
   ]
  },
  {
   "cell_type": "code",
   "execution_count": 43,
   "metadata": {},
   "outputs": [
    {
     "name": "stdout",
     "output_type": "stream",
     "text": [
      "+---+-----------+\n",
      "| id| genre_name|\n",
      "+---+-----------+\n",
      "|  1|     Comedy|\n",
      "|  2|     Comedy|\n",
      "|  2|      Drama|\n",
      "|  2|     Family|\n",
      "|  2|    Romance|\n",
      "|  3|      Drama|\n",
      "|  4|   Thriller|\n",
      "|  4|      Drama|\n",
      "|  5|     Action|\n",
      "|  5|   Thriller|\n",
      "|  6|  Animation|\n",
      "|  6|  Adventure|\n",
      "|  6|     Family|\n",
      "|  7|     Horror|\n",
      "|  7|   Thriller|\n",
      "|  8|Documentary|\n",
      "|  9|     Action|\n",
      "|  9|     Comedy|\n",
      "|  9|      Music|\n",
      "|  9|     Family|\n",
      "+---+-----------+\n",
      "only showing top 20 rows\n",
      "\n"
     ]
    }
   ],
   "source": [
    "genre_sdf = genre_sdf.select(\n",
    "    F.col('id'),\n",
    "    F.regexp_extract(F.col(\"genre\"), \"(?<='name':\\ ')[A-Z][a-z]+\", 0).alias(\"genre_name\")\n",
    ")\n",
    "genre_sdf.show()"
   ]
  },
  {
   "cell_type": "markdown",
   "metadata": {},
   "source": [
    "## Saving data"
   ]
  },
  {
   "cell_type": "code",
   "execution_count": 14,
   "metadata": {},
   "outputs": [
    {
     "name": "stdout",
     "output_type": "stream",
     "text": [
      "root\n",
      " |-- id: integer (nullable = true)\n",
      " |-- belongs_to_collection: string (nullable = true)\n",
      " |-- budget: string (nullable = true)\n",
      " |-- genres: array (nullable = true)\n",
      " |    |-- element: struct (containsNull = true)\n",
      " |    |    |-- id: integer (nullable = true)\n",
      " |    |    |-- name: string (nullable = true)\n",
      " |-- homepage: string (nullable = true)\n",
      " |-- imdb_id: string (nullable = true)\n",
      " |-- original_language: string (nullable = true)\n",
      " |-- original_title: string (nullable = true)\n",
      " |-- overview: string (nullable = true)\n",
      " |-- popularity: string (nullable = true)\n",
      " |-- poster_path: string (nullable = true)\n",
      " |-- production_companies: string (nullable = true)\n",
      " |-- production_countries: string (nullable = true)\n",
      " |-- release_date: string (nullable = true)\n",
      " |-- runtime: string (nullable = true)\n",
      " |-- spoken_languages: string (nullable = true)\n",
      " |-- status: string (nullable = true)\n",
      " |-- tagline: string (nullable = true)\n",
      " |-- title: string (nullable = true)\n",
      " |-- Keywords: string (nullable = true)\n",
      " |-- cast: string (nullable = true)\n",
      " |-- crew: string (nullable = true)\n",
      " |-- revenue: string (nullable = true)\n",
      "\n"
     ]
    }
   ],
   "source": [
    "films_sdf.printSchema()"
   ]
  },
  {
   "cell_type": "code",
   "execution_count": 23,
   "metadata": {},
   "outputs": [],
   "source": [
    "films_sdf.write.mode('overwrite').parquet(\"data/tmdb1\")"
   ]
  },
  {
   "cell_type": "code",
   "execution_count": 22,
   "metadata": {},
   "outputs": [
    {
     "name": "stdout",
     "output_type": "stream",
     "text": [
      "_SUCCESS\r\n",
      "part-00000-f896b292-e097-404a-afd7-b75b76dcdf49-c000.snappy.parquet\r\n",
      "part-00001-f896b292-e097-404a-afd7-b75b76dcdf49-c000.snappy.parquet\r\n",
      "part-00002-f896b292-e097-404a-afd7-b75b76dcdf49-c000.snappy.parquet\r\n",
      "part-00003-f896b292-e097-404a-afd7-b75b76dcdf49-c000.snappy.parquet\r\n"
     ]
    }
   ],
   "source": [
    "!ls data/tmdb1"
   ]
  },
  {
   "cell_type": "code",
   "execution_count": 25,
   "metadata": {},
   "outputs": [],
   "source": [
    "new_films_sdf = spark.read.parquet(\"data/tmdb1\")"
   ]
  },
  {
   "cell_type": "code",
   "execution_count": 26,
   "metadata": {},
   "outputs": [
    {
     "name": "stdout",
     "output_type": "stream",
     "text": [
      "root\n",
      " |-- id: integer (nullable = true)\n",
      " |-- belongs_to_collection: string (nullable = true)\n",
      " |-- budget: string (nullable = true)\n",
      " |-- genres: array (nullable = true)\n",
      " |    |-- element: struct (containsNull = true)\n",
      " |    |    |-- id: integer (nullable = true)\n",
      " |    |    |-- name: string (nullable = true)\n",
      " |-- homepage: string (nullable = true)\n",
      " |-- imdb_id: string (nullable = true)\n",
      " |-- original_language: string (nullable = true)\n",
      " |-- original_title: string (nullable = true)\n",
      " |-- overview: string (nullable = true)\n",
      " |-- popularity: string (nullable = true)\n",
      " |-- poster_path: string (nullable = true)\n",
      " |-- production_companies: string (nullable = true)\n",
      " |-- production_countries: string (nullable = true)\n",
      " |-- release_date: string (nullable = true)\n",
      " |-- runtime: string (nullable = true)\n",
      " |-- spoken_languages: string (nullable = true)\n",
      " |-- status: string (nullable = true)\n",
      " |-- tagline: string (nullable = true)\n",
      " |-- title: string (nullable = true)\n",
      " |-- Keywords: string (nullable = true)\n",
      " |-- cast: string (nullable = true)\n",
      " |-- crew: string (nullable = true)\n",
      " |-- revenue: string (nullable = true)\n",
      "\n"
     ]
    }
   ],
   "source": [
    "new_films_sdf.printSchema()"
   ]
  },
  {
   "cell_type": "markdown",
   "metadata": {},
   "source": [
    "## Schema"
   ]
  },
  {
   "cell_type": "code",
   "execution_count": 36,
   "metadata": {},
   "outputs": [],
   "source": [
    "from pyspark.sql.types import StructField, StructType, IntegerType, LongType"
   ]
  },
  {
   "cell_type": "code",
   "execution_count": 50,
   "metadata": {},
   "outputs": [],
   "source": [
    "from pyspark.sql.types import StructField, StructType, IntegerType, LongType\n",
    "\n",
    "schema = \\\n",
    "StructType([\n",
    "    StructField(\"id\", IntegerType(), False),\n",
    "    StructField(\"genres\", ArrayType(\n",
    "        StructType([\n",
    "            StructField(\"id\", IntegerType()),\n",
    "            StructField(\"name\", StringType())\n",
    "        ])))\n",
    "    ])"
   ]
  },
  {
   "cell_type": "code",
   "execution_count": 51,
   "metadata": {},
   "outputs": [],
   "source": [
    "new_films_sdf = spark.read.schema(schema=schema).parquet(\"data/tmdb1\")"
   ]
  },
  {
   "cell_type": "code",
   "execution_count": 53,
   "metadata": {},
   "outputs": [
    {
     "name": "stdout",
     "output_type": "stream",
     "text": [
      "root\n",
      " |-- id: integer (nullable = true)\n",
      " |-- genres: array (nullable = true)\n",
      " |    |-- element: struct (containsNull = true)\n",
      " |    |    |-- id: integer (nullable = true)\n",
      " |    |    |-- name: string (nullable = true)\n",
      "\n"
     ]
    }
   ],
   "source": [
    "new_films_sdf.printSchema()"
   ]
  }
 ],
 "metadata": {
  "kernelspec": {
   "display_name": "Python 3",
   "language": "python",
   "name": "python3"
  },
  "language_info": {
   "codemirror_mode": {
    "name": "ipython",
    "version": 3
   },
   "file_extension": ".py",
   "mimetype": "text/x-python",
   "name": "python",
   "nbconvert_exporter": "python",
   "pygments_lexer": "ipython3",
   "version": "3.6.8"
  }
 },
 "nbformat": 4,
 "nbformat_minor": 2
}

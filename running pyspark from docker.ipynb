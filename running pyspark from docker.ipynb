{
 "cells": [
  {
   "cell_type": "markdown",
   "metadata": {},
   "source": [
    "## Jupyer docker stacks\n",
    "\n",
    "<https://github.com/jupyter/docker-stacks>\n",
    "\n",
    "Run docker with\n",
    "``` shell\n",
    "docker run -v `pwd`:/home/jovyan/work  -p 8998:8888 jupyter/pyspark-notebook\n",
    "```\n",
    "\n",
    "Then get your token from the console. You should see something like\n",
    "```\n",
    "http://(506528c8b28a or 127.0.0.1):8888/?token=0b8f814a446a5daab65dc2704d923e909a4aa83bc1178393\n",
    "```\n",
    "Copy it to your browser and change it into:\n",
    "```\n",
    "http://127.0.0.1:8998/?token=0b8f814a446a5daab65dc2704d923e909a4aa83bc1178393\n",
    "```\n",
    "Note change of `8888` into `8998`.\n",
    "    \n",
    "You can login to your docker using standard:\n",
    "``` shell\n",
    "docker exec -it <container name> /bin/bash\n",
    "```\n",
    "\n",
    "You can get your container name or id by running:\n",
    "```\n",
    "docker ps\n",
    "```"
   ]
  },
  {
   "cell_type": "code",
   "execution_count": null,
   "metadata": {},
   "outputs": [],
   "source": [
    "!pip install findspark"
   ]
  },
  {
   "cell_type": "code",
   "execution_count": 2,
   "metadata": {},
   "outputs": [],
   "source": [
    "import findspark\n",
    "findspark.init()"
   ]
  },
  {
   "cell_type": "code",
   "execution_count": 3,
   "metadata": {},
   "outputs": [],
   "source": [
    "import matplotlib.pyplot as plt\n",
    "import matplotlib\n",
    "%matplotlib inline"
   ]
  },
  {
   "cell_type": "code",
   "execution_count": 4,
   "metadata": {},
   "outputs": [],
   "source": [
    "matplotlib.rcParams['figure.figsize'] = [20, 10]\n",
    "matplotlib.rcParams['font.size'] = 20"
   ]
  },
  {
   "cell_type": "code",
   "execution_count": 5,
   "metadata": {},
   "outputs": [],
   "source": [
    "from pyspark.sql import SparkSession\n",
    "\n",
    "spark = SparkSession \\\n",
    "    .builder \\\n",
    "    .appName(\"Pyspark course\") \\\n",
    "    .getOrCreate()"
   ]
  },
  {
   "cell_type": "code",
   "execution_count": 7,
   "metadata": {},
   "outputs": [],
   "source": [
    "sales_sdf = spark.read.option(\"header\", \"true\").csv(\"data/competitive-data-science-predict-future-sales/sales_train.csv.gz\")"
   ]
  }
 ],
 "metadata": {
  "kernelspec": {
   "display_name": "Python 3",
   "language": "python",
   "name": "python3"
  },
  "language_info": {
   "codemirror_mode": {
    "name": "ipython",
    "version": 3
   },
   "file_extension": ".py",
   "mimetype": "text/x-python",
   "name": "python",
   "nbconvert_exporter": "python",
   "pygments_lexer": "ipython3",
   "version": "3.7.3"
  }
 },
 "nbformat": 4,
 "nbformat_minor": 2
}

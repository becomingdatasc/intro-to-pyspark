{
 "cells": [
  {
   "cell_type": "markdown",
   "metadata": {},
   "source": [
    "## Linear"
   ]
  },
  {
   "cell_type": "code",
   "execution_count": 45,
   "metadata": {},
   "outputs": [],
   "source": [
    "import pandas as pd\n",
    "\n",
    "from pyspark.sql import SparkSession\n",
    "\n",
    "spark = SparkSession \\\n",
    "    .builder \\\n",
    "    .appName(\"Pyspark course\") \\\n",
    "    .getOrCreate()"
   ]
  },
  {
   "cell_type": "code",
   "execution_count": 46,
   "metadata": {},
   "outputs": [
    {
     "data": {
      "text/plain": [
       "array(['CRIM', 'ZN', 'INDUS', 'CHAS', 'NOX', 'RM', 'AGE', 'DIS', 'RAD',\n",
       "       'TAX', 'PTRATIO', 'B', 'LSTAT'], dtype='<U7')"
      ]
     },
     "execution_count": 46,
     "metadata": {},
     "output_type": "execute_result"
    }
   ],
   "source": [
    "from sklearn.datasets import load_boston\n",
    "data = load_boston()\n",
    "\n",
    "data['feature_names']"
   ]
  },
  {
   "cell_type": "code",
   "execution_count": 47,
   "metadata": {},
   "outputs": [],
   "source": [
    "data_df = pd.DataFrame(data.data, columns=data['feature_names'])\n",
    "data_df['label'] = data.target"
   ]
  },
  {
   "cell_type": "code",
   "execution_count": 48,
   "metadata": {},
   "outputs": [],
   "source": [
    "data_sdf = spark.createDataFrame(data_df[['CRIM', 'LSTAT', 'label']])"
   ]
  },
  {
   "cell_type": "code",
   "execution_count": 49,
   "metadata": {},
   "outputs": [
    {
     "name": "stdout",
     "output_type": "stream",
     "text": [
      "+-------+-----+-----+\n",
      "|   CRIM|LSTAT|label|\n",
      "+-------+-----+-----+\n",
      "|0.00632| 4.98| 24.0|\n",
      "|0.02731| 9.14| 21.6|\n",
      "|0.02729| 4.03| 34.7|\n",
      "|0.03237| 2.94| 33.4|\n",
      "|0.06905| 5.33| 36.2|\n",
      "|0.02985| 5.21| 28.7|\n",
      "|0.08829|12.43| 22.9|\n",
      "|0.14455|19.15| 27.1|\n",
      "|0.21124|29.93| 16.5|\n",
      "|0.17004| 17.1| 18.9|\n",
      "|0.22489|20.45| 15.0|\n",
      "|0.11747|13.27| 18.9|\n",
      "|0.09378|15.71| 21.7|\n",
      "|0.62976| 8.26| 20.4|\n",
      "|0.63796|10.26| 18.2|\n",
      "|0.62739| 8.47| 19.9|\n",
      "|1.05393| 6.58| 23.1|\n",
      "| 0.7842|14.67| 17.5|\n",
      "|0.80271|11.69| 20.2|\n",
      "| 0.7258|11.28| 18.2|\n",
      "+-------+-----+-----+\n",
      "only showing top 20 rows\n",
      "\n"
     ]
    }
   ],
   "source": [
    "data_sdf.show()"
   ]
  },
  {
   "cell_type": "code",
   "execution_count": 50,
   "metadata": {},
   "outputs": [],
   "source": [
    "from pyspark.ml.feature import VectorAssembler\n",
    "\n",
    "\n",
    "assembler = VectorAssembler(\n",
    "    inputCols=['CRIM', 'LSTAT'],\n",
    "    outputCol=\"features\")\n",
    "\n",
    "data = assembler.transform(data_sdf)"
   ]
  },
  {
   "cell_type": "code",
   "execution_count": 51,
   "metadata": {},
   "outputs": [
    {
     "name": "stdout",
     "output_type": "stream",
     "text": [
      "root\n",
      " |-- CRIM: double (nullable = true)\n",
      " |-- LSTAT: double (nullable = true)\n",
      " |-- label: double (nullable = true)\n",
      " |-- features: vector (nullable = true)\n",
      "\n"
     ]
    }
   ],
   "source": [
    "data.printSchema()"
   ]
  },
  {
   "cell_type": "code",
   "execution_count": 52,
   "metadata": {},
   "outputs": [],
   "source": [
    "train, test = data.randomSplit([0.9, 0.1], seed=12345)"
   ]
  },
  {
   "cell_type": "code",
   "execution_count": 53,
   "metadata": {},
   "outputs": [],
   "source": [
    "from pyspark.ml.regression import LinearRegression\n",
    "\n",
    "reg = LinearRegression(maxIter=100)"
   ]
  },
  {
   "cell_type": "code",
   "execution_count": 54,
   "metadata": {},
   "outputs": [],
   "source": [
    "model = reg.fit(train)"
   ]
  },
  {
   "cell_type": "code",
   "execution_count": 57,
   "metadata": {},
   "outputs": [
    {
     "name": "stdout",
     "output_type": "stream",
     "text": [
      "+-------+-----+-----+---------------+------------------+\n",
      "|   CRIM|LSTAT|label|       features|        prediction|\n",
      "+-------+-----+-----+---------------+------------------+\n",
      "|0.01951| 8.05| 33.0| [0.01951,8.05]|26.760799675492624|\n",
      "|0.02763| 4.32| 30.8| [0.02763,4.32]|30.091008048496008|\n",
      "|0.09744|11.41| 20.0|[0.09744,11.41]|23.756232907479912|\n",
      "|0.12744| 4.84| 26.6| [0.12744,4.84]|29.621176661541597|\n",
      "|0.13262|16.47| 19.5|[0.13262,16.47]|19.236030155124016|\n",
      "| 0.1396|12.33| 20.1| [0.1396,12.33]|22.932405688085776|\n",
      "|0.14932|13.15| 18.7|[0.14932,13.15]|22.199661091910347|\n",
      "|0.22927| 18.8| 16.6| [0.22927,18.8]|17.150156503250034|\n",
      "|0.25387|30.81| 14.4|[0.25387,30.81]| 6.424622911667935|\n",
      "|0.62739| 8.47| 19.9| [0.62739,8.47]| 26.35224467243256|\n",
      "|0.01439| 4.38| 29.1| [0.01439,4.38]|30.038161925473855|\n",
      "| 0.0315| 4.56| 34.9|  [0.0315,4.56]| 29.87648968546921|\n",
      "|0.05602| 4.45| 50.0| [0.05602,4.45]|29.973360641994073|\n",
      "|0.06588| 7.56| 39.8| [0.06588,7.56]| 27.19578189712888|\n",
      "| 0.0837| 5.39| 34.9|  [0.0837,5.39]|29.132473171154015|\n",
      "|0.09252| 7.37| 23.3| [0.09252,7.37]|27.363970931377455|\n",
      "|0.31533| 4.14| 44.8| [0.31533,4.14]|30.235871645166654|\n",
      "|0.32264| 16.9| 17.4| [0.32264,16.9]|18.841588525982758|\n",
      "|0.35809| 9.71| 26.7| [0.35809,9.71]| 25.25985287075267|\n",
      "|0.38214| 3.13| 37.6| [0.38214,3.13]|31.134054108581918|\n",
      "+-------+-----+-----+---------------+------------------+\n",
      "only showing top 20 rows\n",
      "\n"
     ]
    }
   ],
   "source": [
    "model.transform(test).show()"
   ]
  },
  {
   "cell_type": "code",
   "execution_count": null,
   "metadata": {},
   "outputs": [],
   "source": []
  }
 ],
 "metadata": {
  "kernelspec": {
   "display_name": "Python 3",
   "language": "python",
   "name": "python3"
  },
  "language_info": {
   "codemirror_mode": {
    "name": "ipython",
    "version": 3
   },
   "file_extension": ".py",
   "mimetype": "text/x-python",
   "name": "python",
   "nbconvert_exporter": "python",
   "pygments_lexer": "ipython3",
   "version": "3.6.8"
  }
 },
 "nbformat": 4,
 "nbformat_minor": 2
}

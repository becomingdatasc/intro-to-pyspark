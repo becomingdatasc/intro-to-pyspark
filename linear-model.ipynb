{
 "cells": [
  {
   "cell_type": "markdown",
   "metadata": {},
   "source": [
    "## Linear regression with pyspark"
   ]
  },
  {
   "cell_type": "code",
   "execution_count": 1,
   "metadata": {},
   "outputs": [],
   "source": [
    "import pandas as pd\n",
    "\n",
    "from pyspark.sql import SparkSession\n",
    "\n",
    "spark = SparkSession \\\n",
    "    .builder \\\n",
    "    .appName(\"Pyspark course\") \\\n",
    "    .getOrCreate()"
   ]
  },
  {
   "cell_type": "code",
   "execution_count": 2,
   "metadata": {},
   "outputs": [],
   "source": [
    "from sklearn.datasets import load_boston\n",
    "data = load_boston()\n",
    "\n",
    "all_cols = list(data['feature_names'])"
   ]
  },
  {
   "cell_type": "code",
   "execution_count": 3,
   "metadata": {},
   "outputs": [],
   "source": [
    "data_df = pd.DataFrame(data.data, columns=data['feature_names'])\n",
    "data_df['label'] = data.target"
   ]
  },
  {
   "cell_type": "code",
   "execution_count": 4,
   "metadata": {},
   "outputs": [],
   "source": [
    "data_sdf = spark.createDataFrame(data_df)"
   ]
  },
  {
   "cell_type": "code",
   "execution_count": 5,
   "metadata": {},
   "outputs": [
    {
     "name": "stdout",
     "output_type": "stream",
     "text": [
      "+-------+----+-----+----+-----+-----+-----+------+---+-----+-------+------+-----+-----+\n",
      "|   CRIM|  ZN|INDUS|CHAS|  NOX|   RM|  AGE|   DIS|RAD|  TAX|PTRATIO|     B|LSTAT|label|\n",
      "+-------+----+-----+----+-----+-----+-----+------+---+-----+-------+------+-----+-----+\n",
      "|0.00632|18.0| 2.31| 0.0|0.538|6.575| 65.2|  4.09|1.0|296.0|   15.3| 396.9| 4.98| 24.0|\n",
      "|0.02731| 0.0| 7.07| 0.0|0.469|6.421| 78.9|4.9671|2.0|242.0|   17.8| 396.9| 9.14| 21.6|\n",
      "|0.02729| 0.0| 7.07| 0.0|0.469|7.185| 61.1|4.9671|2.0|242.0|   17.8|392.83| 4.03| 34.7|\n",
      "|0.03237| 0.0| 2.18| 0.0|0.458|6.998| 45.8|6.0622|3.0|222.0|   18.7|394.63| 2.94| 33.4|\n",
      "|0.06905| 0.0| 2.18| 0.0|0.458|7.147| 54.2|6.0622|3.0|222.0|   18.7| 396.9| 5.33| 36.2|\n",
      "|0.02985| 0.0| 2.18| 0.0|0.458| 6.43| 58.7|6.0622|3.0|222.0|   18.7|394.12| 5.21| 28.7|\n",
      "|0.08829|12.5| 7.87| 0.0|0.524|6.012| 66.6|5.5605|5.0|311.0|   15.2| 395.6|12.43| 22.9|\n",
      "|0.14455|12.5| 7.87| 0.0|0.524|6.172| 96.1|5.9505|5.0|311.0|   15.2| 396.9|19.15| 27.1|\n",
      "|0.21124|12.5| 7.87| 0.0|0.524|5.631|100.0|6.0821|5.0|311.0|   15.2|386.63|29.93| 16.5|\n",
      "|0.17004|12.5| 7.87| 0.0|0.524|6.004| 85.9|6.5921|5.0|311.0|   15.2|386.71| 17.1| 18.9|\n",
      "|0.22489|12.5| 7.87| 0.0|0.524|6.377| 94.3|6.3467|5.0|311.0|   15.2|392.52|20.45| 15.0|\n",
      "|0.11747|12.5| 7.87| 0.0|0.524|6.009| 82.9|6.2267|5.0|311.0|   15.2| 396.9|13.27| 18.9|\n",
      "|0.09378|12.5| 7.87| 0.0|0.524|5.889| 39.0|5.4509|5.0|311.0|   15.2| 390.5|15.71| 21.7|\n",
      "|0.62976| 0.0| 8.14| 0.0|0.538|5.949| 61.8|4.7075|4.0|307.0|   21.0| 396.9| 8.26| 20.4|\n",
      "|0.63796| 0.0| 8.14| 0.0|0.538|6.096| 84.5|4.4619|4.0|307.0|   21.0|380.02|10.26| 18.2|\n",
      "|0.62739| 0.0| 8.14| 0.0|0.538|5.834| 56.5|4.4986|4.0|307.0|   21.0|395.62| 8.47| 19.9|\n",
      "|1.05393| 0.0| 8.14| 0.0|0.538|5.935| 29.3|4.4986|4.0|307.0|   21.0|386.85| 6.58| 23.1|\n",
      "| 0.7842| 0.0| 8.14| 0.0|0.538| 5.99| 81.7|4.2579|4.0|307.0|   21.0|386.75|14.67| 17.5|\n",
      "|0.80271| 0.0| 8.14| 0.0|0.538|5.456| 36.6|3.7965|4.0|307.0|   21.0|288.99|11.69| 20.2|\n",
      "| 0.7258| 0.0| 8.14| 0.0|0.538|5.727| 69.5|3.7965|4.0|307.0|   21.0|390.95|11.28| 18.2|\n",
      "+-------+----+-----+----+-----+-----+-----+------+---+-----+-------+------+-----+-----+\n",
      "only showing top 20 rows\n",
      "\n"
     ]
    }
   ],
   "source": [
    "data_sdf.show()"
   ]
  },
  {
   "cell_type": "code",
   "execution_count": 6,
   "metadata": {},
   "outputs": [],
   "source": [
    "from pyspark.ml.feature import VectorAssembler\n",
    "\n",
    "\n",
    "assembler = VectorAssembler(\n",
    "    inputCols=['CRIM', 'LSTAT'],\n",
    "    outputCol=\"features\")\n",
    "\n",
    "data = assembler.transform(data_sdf)"
   ]
  },
  {
   "cell_type": "code",
   "execution_count": 7,
   "metadata": {},
   "outputs": [
    {
     "name": "stdout",
     "output_type": "stream",
     "text": [
      "root\n",
      " |-- CRIM: double (nullable = true)\n",
      " |-- ZN: double (nullable = true)\n",
      " |-- INDUS: double (nullable = true)\n",
      " |-- CHAS: double (nullable = true)\n",
      " |-- NOX: double (nullable = true)\n",
      " |-- RM: double (nullable = true)\n",
      " |-- AGE: double (nullable = true)\n",
      " |-- DIS: double (nullable = true)\n",
      " |-- RAD: double (nullable = true)\n",
      " |-- TAX: double (nullable = true)\n",
      " |-- PTRATIO: double (nullable = true)\n",
      " |-- B: double (nullable = true)\n",
      " |-- LSTAT: double (nullable = true)\n",
      " |-- label: double (nullable = true)\n",
      " |-- features: vector (nullable = true)\n",
      "\n"
     ]
    }
   ],
   "source": [
    "data.printSchema()"
   ]
  },
  {
   "cell_type": "code",
   "execution_count": 8,
   "metadata": {},
   "outputs": [],
   "source": [
    "train, test = data.randomSplit([0.9, 0.1], seed=12345)"
   ]
  },
  {
   "cell_type": "code",
   "execution_count": 9,
   "metadata": {},
   "outputs": [],
   "source": [
    "from pyspark.ml.regression import LinearRegression\n",
    "\n",
    "reg = LinearRegression(maxIter=100)"
   ]
  },
  {
   "cell_type": "code",
   "execution_count": 10,
   "metadata": {},
   "outputs": [],
   "source": [
    "model = reg.fit(train)"
   ]
  },
  {
   "cell_type": "code",
   "execution_count": 11,
   "metadata": {},
   "outputs": [
    {
     "name": "stdout",
     "output_type": "stream",
     "text": [
      "+-------+----+-----+----+------+-----+----+------+---+-----+-------+------+-----+-----+---------------+------------------+\n",
      "|   CRIM|  ZN|INDUS|CHAS|   NOX|   RM| AGE|   DIS|RAD|  TAX|PTRATIO|     B|LSTAT|label|       features|        prediction|\n",
      "+-------+----+-----+----+------+-----+----+------+---+-----+-------+------+-----+-----+---------------+------------------+\n",
      "|0.01951|17.5| 1.38| 0.0|0.4161|7.104|59.5|9.2229|3.0|216.0|   18.6|393.24| 8.05| 33.0| [0.01951,8.05]|26.760799675492613|\n",
      "|0.02763|75.0| 2.95| 0.0| 0.428|6.595|21.8|5.4011|3.0|252.0|   18.3|395.63| 4.32| 30.8| [0.02763,4.32]|30.091008048495993|\n",
      "|0.09744| 0.0| 5.96| 0.0| 0.499|5.841|61.4|3.3779|5.0|279.0|   19.2|377.56|11.41| 20.0|[0.09744,11.41]|23.756232907479905|\n",
      "|0.12744| 0.0| 6.91| 0.0| 0.448| 6.77| 2.9|5.7209|3.0|233.0|   17.9|385.41| 4.84| 26.6| [0.12744,4.84]|29.621176661541586|\n",
      "|0.13262| 0.0| 8.56| 0.0|  0.52|5.851|96.7|2.1069|5.0|384.0|   20.9|394.05|16.47| 19.5|[0.13262,16.47]|19.236030155124013|\n",
      "| 0.1396| 0.0| 8.56| 0.0|  0.52|6.167|90.0| 2.421|5.0|384.0|   20.9|392.69|12.33| 20.1| [0.1396,12.33]| 22.93240568808577|\n",
      "|0.14932|25.0| 5.13| 0.0| 0.453|5.741|66.2|7.2254|8.0|284.0|   19.7|395.11|13.15| 18.7|[0.14932,13.15]| 22.19966109191034|\n",
      "|0.22927| 0.0| 6.91| 0.0| 0.448| 6.03|85.5|5.6894|3.0|233.0|   17.9|392.74| 18.8| 16.6| [0.22927,18.8]| 17.15015650325003|\n",
      "|0.25387| 0.0| 6.91| 0.0| 0.448|5.399|95.3|  5.87|3.0|233.0|   17.9| 396.9|30.81| 14.4|[0.25387,30.81]| 6.424622911667939|\n",
      "|0.62739| 0.0| 8.14| 0.0| 0.538|5.834|56.5|4.4986|4.0|307.0|   21.0|395.62| 8.47| 19.9| [0.62739,8.47]|26.352244672432548|\n",
      "|0.01439|60.0| 2.93| 0.0| 0.401|6.604|18.8|6.2196|1.0|265.0|   15.6| 376.7| 4.38| 29.1| [0.01439,4.38]|30.038161925473844|\n",
      "| 0.0315|95.0| 1.47| 0.0| 0.403|6.975|15.3|7.6534|3.0|402.0|   17.0| 396.9| 4.56| 34.9|  [0.0315,4.56]|29.876489685469195|\n",
      "|0.05602| 0.0| 2.46| 0.0| 0.488|7.831|53.6|3.1992|3.0|193.0|   17.8|392.63| 4.45| 50.0| [0.05602,4.45]|29.973360641994063|\n",
      "|0.06588| 0.0| 2.46| 0.0| 0.488|7.765|83.3| 2.741|3.0|193.0|   17.8|395.56| 7.56| 39.8| [0.06588,7.56]| 27.19578189712887|\n",
      "| 0.0837|45.0| 3.44| 0.0| 0.437|7.185|38.9|4.5667|5.0|398.0|   15.2| 396.9| 5.39| 34.9|  [0.0837,5.39]|29.132473171154004|\n",
      "|0.09252|30.0| 4.93| 0.0| 0.428|6.606|42.2|6.1899|6.0|300.0|   16.6|383.78| 7.37| 23.3| [0.09252,7.37]|27.363970931377445|\n",
      "|0.31533| 0.0|  6.2| 0.0| 0.504|8.266|78.3|2.8944|8.0|307.0|   17.4|385.05| 4.14| 44.8| [0.31533,4.14]| 30.23587164516664|\n",
      "|0.32264| 0.0|21.89| 0.0| 0.624|5.942|93.5|1.9669|4.0|437.0|   21.2|378.25| 16.9| 17.4| [0.32264,16.9]| 18.84158852598275|\n",
      "|0.35809| 0.0|  6.2| 1.0| 0.507|6.951|88.5|2.8617|8.0|307.0|   17.4| 391.7| 9.71| 26.7| [0.35809,9.71]| 25.25985287075266|\n",
      "|0.38214| 0.0|  6.2| 0.0| 0.504| 8.04|86.5|3.2157|8.0|307.0|   17.4|387.38| 3.13| 37.6| [0.38214,3.13]|31.134054108581907|\n",
      "+-------+----+-----+----+------+-----+----+------+---+-----+-------+------+-----+-----+---------------+------------------+\n",
      "only showing top 20 rows\n",
      "\n"
     ]
    }
   ],
   "source": [
    "test_output = model.transform(test)\n",
    "test_output.show()"
   ]
  },
  {
   "cell_type": "markdown",
   "metadata": {},
   "source": [
    "## Exercise \n",
    "\n",
    "Calculate MSE"
   ]
  },
  {
   "cell_type": "code",
   "execution_count": 12,
   "metadata": {},
   "outputs": [
    {
     "data": {
      "text/plain": [
       "[Row(mse=53.537863568477526, SQRT(mse)=7.316957261627098)]"
      ]
     },
     "execution_count": 12,
     "metadata": {},
     "output_type": "execute_result"
    }
   ],
   "source": [
    "import pyspark.sql.functions as F\n",
    "test_output.select(\n",
    "    F.avg(F.pow(F.col(\"prediction\") - F.col(\"label\"), 2)).alias('mse')\n",
    ").select(\"mse\", F.sqrt(\"mse\")).collect()"
   ]
  },
  {
   "cell_type": "markdown",
   "metadata": {},
   "source": [
    "## Pipelines"
   ]
  },
  {
   "cell_type": "code",
   "execution_count": 14,
   "metadata": {},
   "outputs": [],
   "source": [
    "train, test = data_sdf.randomSplit([0.8, 0.2], seed=666)"
   ]
  },
  {
   "cell_type": "code",
   "execution_count": 15,
   "metadata": {},
   "outputs": [],
   "source": [
    "import pyspark.sql.functions as F\n",
    "from pyspark.ml.feature import VectorAssembler\n",
    "\n",
    "class HouseValueModel:\n",
    "    \n",
    "    def __init__(self, reg, reg_model, inputCols=['CRIM', 'LSTAT']):\n",
    "        self.assembler = VectorAssembler(\n",
    "            inputCols=inputCols,\n",
    "            outputCol=\"features\")\n",
    "        self.regression =  reg\n",
    "        self.reg_model = reg_model\n",
    "        self.model = None\n",
    "        \n",
    "    def fit(self, sdf):\n",
    "        sdf_with_features = self.assembler.transform(sdf)\n",
    "        self.model = self.regression.fit(sdf_with_features)\n",
    "        \n",
    "    def transform(self, sdf):\n",
    "        sdf_with_features = self.assembler.transform(sdf)\n",
    "        return self.model.transform(sdf_with_features)\n",
    "    \n",
    "    def transform_and_calculate_mse(self, sdf):\n",
    "        prediction_sdf = self.transform(sdf)\n",
    "        return mse(prediction_sdf)\n",
    "    \n",
    "    def save(self, file_name):\n",
    "        self.model.save(file_name)\n",
    "        \n",
    "    def load(self, file_name):\n",
    "        self.model = self.reg_model.load(file_name)\n",
    "\n",
    "def mse(sdf):\n",
    "    return sdf.select(\n",
    "        F.avg(F.pow(F.col(\"prediction\") - F.col(\"label\"), 2)).alias('mse')\n",
    "    )\n",
    "\n"
   ]
  },
  {
   "cell_type": "code",
   "execution_count": 16,
   "metadata": {},
   "outputs": [
    {
     "name": "stdout",
     "output_type": "stream",
     "text": [
      "+-----------------+\n",
      "|              mse|\n",
      "+-----------------+\n",
      "|29.39492665040708|\n",
      "+-----------------+\n",
      "\n"
     ]
    }
   ],
   "source": [
    "from pyspark.ml.regression import LinearRegression, LinearRegressionModel\n",
    "house_value_model = HouseValueModel(\n",
    "    reg=LinearRegression(maxIter=100),\n",
    "    reg_model = LinearRegressionModel()\n",
    ")\n",
    "house_value_model.fit(train)\n",
    "house_value_model.transform_and_calculate_mse(test).show()"
   ]
  },
  {
   "cell_type": "code",
   "execution_count": 17,
   "metadata": {},
   "outputs": [],
   "source": [
    "house_value_model.save(\"house_linear_model5\")"
   ]
  },
  {
   "cell_type": "code",
   "execution_count": 19,
   "metadata": {},
   "outputs": [
    {
     "name": "stdout",
     "output_type": "stream",
     "text": [
      "+-----------------+\n",
      "|              mse|\n",
      "+-----------------+\n",
      "|29.39492665040708|\n",
      "+-----------------+\n",
      "\n"
     ]
    }
   ],
   "source": [
    "loaded_house_value_model = HouseValueModel(\n",
    "    reg=LinearRegression(maxIter=100),\n",
    "    reg_model = LinearRegressionModel()\n",
    ")\n",
    "loaded_house_value_model.load(\"house_linear_model5\")\n",
    "loaded_house_value_model.transform_and_calculate_mse(test).show()"
   ]
  },
  {
   "cell_type": "code",
   "execution_count": null,
   "metadata": {},
   "outputs": [],
   "source": []
  }
 ],
 "metadata": {
  "kernelspec": {
   "display_name": "Python 3",
   "language": "python",
   "name": "python3"
  },
  "language_info": {
   "codemirror_mode": {
    "name": "ipython",
    "version": 3
   },
   "file_extension": ".py",
   "mimetype": "text/x-python",
   "name": "python",
   "nbconvert_exporter": "python",
   "pygments_lexer": "ipython3",
   "version": "3.6.8"
  }
 },
 "nbformat": 4,
 "nbformat_minor": 2
}
